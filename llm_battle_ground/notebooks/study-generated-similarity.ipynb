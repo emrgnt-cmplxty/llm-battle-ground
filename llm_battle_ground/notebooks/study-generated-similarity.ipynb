{
 "cells": [
  {
   "cell_type": "code",
   "execution_count": 6,
   "id": "aee8c4ed",
   "metadata": {},
   "outputs": [
    {
     "data": {
      "text/html": [
       "<div>\n",
       "<style scoped>\n",
       "    .dataframe tbody tr th:only-of-type {\n",
       "        vertical-align: middle;\n",
       "    }\n",
       "\n",
       "    .dataframe tbody tr th {\n",
       "        vertical-align: top;\n",
       "    }\n",
       "\n",
       "    .dataframe thead th {\n",
       "        text-align: right;\n",
       "    }\n",
       "</style>\n",
       "<table border=\"1\" class=\"dataframe\">\n",
       "  <thead>\n",
       "    <tr style=\"text-align: right;\">\n",
       "      <th></th>\n",
       "      <th>input_context_gpt3p5</th>\n",
       "      <th>expected_response_gpt3p5</th>\n",
       "      <th>iloc</th>\n",
       "      <th>frontend_question_id_gpt3p5</th>\n",
       "      <th>n_pass_gpt3p5</th>\n",
       "      <th>response_gpt3p5</th>\n",
       "      <th>cleaned_response_gpt3p5</th>\n",
       "      <th>gpt3p5-turbo-0613</th>\n",
       "      <th>input_context_gpt4</th>\n",
       "      <th>expected_response_gpt4</th>\n",
       "      <th>frontend_question_id_gpt4</th>\n",
       "      <th>n_pass_gpt4</th>\n",
       "      <th>response_gpt4</th>\n",
       "      <th>cleaned_response_gpt4</th>\n",
       "      <th>gpt4-0613</th>\n",
       "    </tr>\n",
       "  </thead>\n",
       "  <tbody>\n",
       "    <tr>\n",
       "      <th>0</th>\n",
       "      <td>Example 1: \\nLeetCode Problem #2\\nTitle: Add T...</td>\n",
       "      <td>Example 21: \\nLeetCode Problem #22\\nTitle: Gen...</td>\n",
       "      <td>21</td>\n",
       "      <td>42.0</td>\n",
       "      <td>1</td>\n",
       "      <td>Example 21: \\nLeetCode Problem #22\\nTitle: Gen...</td>\n",
       "      <td>\\nGenerate Parentheses\\n\\nGiven n pairs of pa...</td>\n",
       "      <td>0.975400</td>\n",
       "      <td>Example 1: \\nLeetCode Problem #2\\nTitle: Add T...</td>\n",
       "      <td>Example 21: \\nLeetCode Problem #22\\nTitle: Gen...</td>\n",
       "      <td>42.0</td>\n",
       "      <td>1</td>\n",
       "      <td>Example 21: \\nLeetCode Problem #22\\nTitle: Gen...</td>\n",
       "      <td>\\nGenerate Parentheses\\n\\nGiven n pairs of pa...</td>\n",
       "      <td>0.968457</td>\n",
       "    </tr>\n",
       "    <tr>\n",
       "      <th>1</th>\n",
       "      <td>Example 1: \\nLeetCode Problem #42\\nTitle: Trap...</td>\n",
       "      <td>Example 21: \\nLeetCode Problem #62\\nTitle: Uni...</td>\n",
       "      <td>61</td>\n",
       "      <td>82.0</td>\n",
       "      <td>1</td>\n",
       "      <td>Example 21: \\nLeetCode Problem #62\\nTitle: Uni...</td>\n",
       "      <td>\\nUnique Paths\\n\\nA robot is located at the t...</td>\n",
       "      <td>0.966447</td>\n",
       "      <td>Example 1: \\nLeetCode Problem #42\\nTitle: Trap...</td>\n",
       "      <td>Example 21: \\nLeetCode Problem #62\\nTitle: Uni...</td>\n",
       "      <td>82.0</td>\n",
       "      <td>1</td>\n",
       "      <td>Example 21: \\nLeetCode Problem #62\\nTitle: Uni...</td>\n",
       "      <td>\\nUnique Paths\\n\\nA robot is located at the t...</td>\n",
       "      <td>0.966928</td>\n",
       "    </tr>\n",
       "    <tr>\n",
       "      <th>2</th>\n",
       "      <td>Example 1: \\nLeetCode Problem #82\\nTitle: Remo...</td>\n",
       "      <td>Example 21: \\nLeetCode Problem #102\\nTitle: Bi...</td>\n",
       "      <td>101</td>\n",
       "      <td>122.0</td>\n",
       "      <td>1</td>\n",
       "      <td>Example 21: \\nLeetCode Problem #102\\nTitle: Bi...</td>\n",
       "      <td>\\nBinary Tree Level Order Traversal\\n\\nGiven ...</td>\n",
       "      <td>0.975543</td>\n",
       "      <td>Example 1: \\nLeetCode Problem #82\\nTitle: Remo...</td>\n",
       "      <td>Example 21: \\nLeetCode Problem #102\\nTitle: Bi...</td>\n",
       "      <td>122.0</td>\n",
       "      <td>1</td>\n",
       "      <td>Example 21: \\nLeetCode Problem #102\\nTitle: Bi...</td>\n",
       "      <td>\\nBinary Tree Level Order Traversal\\n\\nGiven ...</td>\n",
       "      <td>0.979993</td>\n",
       "    </tr>\n",
       "    <tr>\n",
       "      <th>3</th>\n",
       "      <td>Example 1: \\nLeetCode Problem #122\\nTitle: Bes...</td>\n",
       "      <td>Example 21: \\nLeetCode Problem #142\\nTitle: Li...</td>\n",
       "      <td>141</td>\n",
       "      <td>168.0</td>\n",
       "      <td>1</td>\n",
       "      <td>Example 21: \\nLeetCode Problem #142\\nTitle: Li...</td>\n",
       "      <td>\\nLinked List Cycle II\\n\\nGiven a linked list...</td>\n",
       "      <td>0.972935</td>\n",
       "      <td>Example 1: \\nLeetCode Problem #122\\nTitle: Bes...</td>\n",
       "      <td>Example 21: \\nLeetCode Problem #142\\nTitle: Li...</td>\n",
       "      <td>168.0</td>\n",
       "      <td>1</td>\n",
       "      <td>Example 21: \\nLeetCode Problem #142\\nTitle: Li...</td>\n",
       "      <td>\\nLinked List Cycle II\\n\\nGiven a linked list...</td>\n",
       "      <td>0.971993</td>\n",
       "    </tr>\n",
       "    <tr>\n",
       "      <th>4</th>\n",
       "      <td>Example 1: \\nLeetCode Problem #168\\nTitle: Exc...</td>\n",
       "      <td>Example 21: \\nLeetCode Problem #206\\nTitle: Re...</td>\n",
       "      <td>181</td>\n",
       "      <td>226.0</td>\n",
       "      <td>1</td>\n",
       "      <td>Example 21: \\nLeetCode Problem #206\\nTitle: Re...</td>\n",
       "      <td>\\nReverse Linked List\\n\\nReverse a singly lin...</td>\n",
       "      <td>0.943216</td>\n",
       "      <td>Example 1: \\nLeetCode Problem #168\\nTitle: Exc...</td>\n",
       "      <td>Example 21: \\nLeetCode Problem #206\\nTitle: Re...</td>\n",
       "      <td>226.0</td>\n",
       "      <td>1</td>\n",
       "      <td>Example 21: \\nLeetCode Problem #206\\nTitle: Re...</td>\n",
       "      <td>\\nReverse Linked List\\n\\nGiven the head of a ...</td>\n",
       "      <td>0.967305</td>\n",
       "    </tr>\n",
       "    <tr>\n",
       "      <th>5</th>\n",
       "      <td>Example 1: \\nLeetCode Problem #226\\nTitle: Inv...</td>\n",
       "      <td>Example 21: \\nLeetCode Problem #263\\nTitle: Ug...</td>\n",
       "      <td>221</td>\n",
       "      <td>303.0</td>\n",
       "      <td>1</td>\n",
       "      <td>Example 21: \\nLeetCode Problem #261\\nTitle: Gr...</td>\n",
       "      <td>\\nGraph Valid Tree\\n\\nGiven n nodes labeled f...</td>\n",
       "      <td>0.929275</td>\n",
       "      <td>Example 1: \\nLeetCode Problem #226\\nTitle: Inv...</td>\n",
       "      <td>Example 21: \\nLeetCode Problem #263\\nTitle: Ug...</td>\n",
       "      <td>303.0</td>\n",
       "      <td>1</td>\n",
       "      <td>Example 21: \\nLeetCode Problem #261\\nTitle: Gr...</td>\n",
       "      <td>\\nGraph Valid Tree\\n\\nGiven n nodes labeled f...</td>\n",
       "      <td>0.910235</td>\n",
       "    </tr>\n",
       "    <tr>\n",
       "      <th>6</th>\n",
       "      <td>Example 1: \\nLeetCode Problem #303\\nTitle: Ran...</td>\n",
       "      <td>Example 21: \\nLeetCode Problem #331\\nTitle: Ve...</td>\n",
       "      <td>261</td>\n",
       "      <td>365.0</td>\n",
       "      <td>1</td>\n",
       "      <td>Example 21: \\nLeetCode Problem #331\\nTitle: Ve...</td>\n",
       "      <td>\\nVerify Preorder Serialization of a Binary T...</td>\n",
       "      <td>0.953775</td>\n",
       "      <td>Example 1: \\nLeetCode Problem #303\\nTitle: Ran...</td>\n",
       "      <td>Example 21: \\nLeetCode Problem #331\\nTitle: Ve...</td>\n",
       "      <td>365.0</td>\n",
       "      <td>1</td>\n",
       "      <td>Example 21: \\nLeetCode Problem #331\\nTitle: Ve...</td>\n",
       "      <td>\\nVerify Preorder Serialization of a Binary T...</td>\n",
       "      <td>0.965454</td>\n",
       "    </tr>\n",
       "    <tr>\n",
       "      <th>7</th>\n",
       "      <td>Example 1: \\nLeetCode Problem #365\\nTitle: Wat...</td>\n",
       "      <td>Example 21: \\nLeetCode Problem #389\\nTitle: Fi...</td>\n",
       "      <td>301</td>\n",
       "      <td>410.0</td>\n",
       "      <td>1</td>\n",
       "      <td>Example 21: \\nLeetCode Problem #389\\nTitle: Fi...</td>\n",
       "      <td>\\nFind the Difference\\n\\nGiven two strings s ...</td>\n",
       "      <td>0.914224</td>\n",
       "      <td>Example 1: \\nLeetCode Problem #365\\nTitle: Wat...</td>\n",
       "      <td>Example 21: \\nLeetCode Problem #389\\nTitle: Fi...</td>\n",
       "      <td>410.0</td>\n",
       "      <td>1</td>\n",
       "      <td>Example 21: \\nLeetCode Problem #389\\nTitle: Fi...</td>\n",
       "      <td>\\nFind the Difference\\n\\nGiven two strings s ...</td>\n",
       "      <td>0.938517</td>\n",
       "    </tr>\n",
       "    <tr>\n",
       "      <th>8</th>\n",
       "      <td>Example 1: \\nLeetCode Problem #410\\nTitle: Spl...</td>\n",
       "      <td>Example 21: \\nLeetCode Problem #437\\nTitle: Pa...</td>\n",
       "      <td>341</td>\n",
       "      <td>459.0</td>\n",
       "      <td>1</td>\n",
       "      <td>Example 21: \\nLeetCode Problem #437\\nTitle: Pa...</td>\n",
       "      <td>\\nPath Sum III\\n\\nGiven the root of a binary ...</td>\n",
       "      <td>0.981365</td>\n",
       "      <td>Example 1: \\nLeetCode Problem #410\\nTitle: Spl...</td>\n",
       "      <td>Example 21: \\nLeetCode Problem #437\\nTitle: Pa...</td>\n",
       "      <td>459.0</td>\n",
       "      <td>1</td>\n",
       "      <td>Example 21: \\nLeetCode Problem #437\\nTitle: Pa...</td>\n",
       "      <td>\\nPath Sum III\\n\\nYou are given a binary tree...</td>\n",
       "      <td>0.919942</td>\n",
       "    </tr>\n",
       "    <tr>\n",
       "      <th>9</th>\n",
       "      <td>Example 1: \\nLeetCode Problem #508\\nTitle: Mos...</td>\n",
       "      <td>Example 21: \\nLeetCode Problem #535\\nTitle: En...</td>\n",
       "      <td>421</td>\n",
       "      <td>563.0</td>\n",
       "      <td>1</td>\n",
       "      <td>Example 21: \\nLeetCode Problem #533\\nTitle: Lo...</td>\n",
       "      <td>\\nLonely Pixel II\\n\\nGiven an m x n picture c...</td>\n",
       "      <td>0.941912</td>\n",
       "      <td>Example 1: \\nLeetCode Problem #508\\nTitle: Mos...</td>\n",
       "      <td>Example 21: \\nLeetCode Problem #535\\nTitle: En...</td>\n",
       "      <td>563.0</td>\n",
       "      <td>1</td>\n",
       "      <td>Example 21: \\nLeetCode Problem #533\\nTitle: Lo...</td>\n",
       "      <td>\\nLonely Pixel II\\n\\nGiven a picture consisti...</td>\n",
       "      <td>0.968484</td>\n",
       "    </tr>\n",
       "    <tr>\n",
       "      <th>10</th>\n",
       "      <td>Example 1: \\nLeetCode Problem #563\\nTitle: Bin...</td>\n",
       "      <td>Example 21: \\nLeetCode Problem #605\\nTitle: Ca...</td>\n",
       "      <td>461</td>\n",
       "      <td>645.0</td>\n",
       "      <td>1</td>\n",
       "      <td>Example 21: \\nLeetCode Problem #601\\nTitle: Hu...</td>\n",
       "      <td>\\nHuman Traffic of Stadium\\n\\nThere are a tot...</td>\n",
       "      <td>0.935078</td>\n",
       "      <td>Example 1: \\nLeetCode Problem #563\\nTitle: Bin...</td>\n",
       "      <td>Example 21: \\nLeetCode Problem #605\\nTitle: Ca...</td>\n",
       "      <td>645.0</td>\n",
       "      <td>1</td>\n",
       "      <td>Example 21: \\nLeetCode Problem #601\\nTitle: Hu...</td>\n",
       "      <td>\\nHuman Traffic of Stadium\\n\\nX city built a ...</td>\n",
       "      <td>0.945834</td>\n",
       "    </tr>\n",
       "    <tr>\n",
       "      <th>11</th>\n",
       "      <td>Example 1: \\nLeetCode Problem #645\\nTitle: Set...</td>\n",
       "      <td>Example 21: \\nLeetCode Problem #670\\nTitle: Ma...</td>\n",
       "      <td>501</td>\n",
       "      <td>692.0</td>\n",
       "      <td>1</td>\n",
       "      <td>Example 21: \\nLeetCode Problem #670\\nTitle: Ma...</td>\n",
       "      <td>\\nMaximum Swap\\n\\nYou are given an integer nu...</td>\n",
       "      <td>0.958825</td>\n",
       "      <td>Example 1: \\nLeetCode Problem #645\\nTitle: Set...</td>\n",
       "      <td>Example 21: \\nLeetCode Problem #670\\nTitle: Ma...</td>\n",
       "      <td>692.0</td>\n",
       "      <td>1</td>\n",
       "      <td>Example 21: \\nLeetCode Problem #670\\nTitle: Ma...</td>\n",
       "      <td>\\nMaximum Swap\\n\\nGiven a non-empty string of...</td>\n",
       "      <td>0.941444</td>\n",
       "    </tr>\n",
       "    <tr>\n",
       "      <th>12</th>\n",
       "      <td>Example 1: \\nLeetCode Problem #692\\nTitle: Top...</td>\n",
       "      <td>Example 21: \\nLeetCode Problem #717\\nTitle: 1-...</td>\n",
       "      <td>541</td>\n",
       "      <td>741.0</td>\n",
       "      <td>1</td>\n",
       "      <td>Example 21: \\nLeetCode Problem #716\\nTitle: Ma...</td>\n",
       "      <td>\\nMax Stack\\n\\nDesign a max stack that suppor...</td>\n",
       "      <td>0.974316</td>\n",
       "      <td>Example 1: \\nLeetCode Problem #692\\nTitle: Top...</td>\n",
       "      <td>Example 21: \\nLeetCode Problem #717\\nTitle: 1-...</td>\n",
       "      <td>741.0</td>\n",
       "      <td>1</td>\n",
       "      <td>Example 21: \\nLeetCode Problem #716\\nTitle: Ma...</td>\n",
       "      <td>\\nMax Stack\\n\\nDesign a max stack that suppor...</td>\n",
       "      <td>0.932823</td>\n",
       "    </tr>\n",
       "    <tr>\n",
       "      <th>13</th>\n",
       "      <td>Example 1: \\nLeetCode Problem #741\\nTitle: Che...</td>\n",
       "      <td>Example 21: \\nLeetCode Problem #768\\nTitle: Ma...</td>\n",
       "      <td>581</td>\n",
       "      <td>791.0</td>\n",
       "      <td>1</td>\n",
       "      <td>Example 21: \\nLeetCode Problem #768\\nTitle: Ma...</td>\n",
       "      <td>\\nMax Chunks To Make Sorted II\\n\\nGiven an ar...</td>\n",
       "      <td>0.942406</td>\n",
       "      <td>Example 1: \\nLeetCode Problem #741\\nTitle: Che...</td>\n",
       "      <td>Example 21: \\nLeetCode Problem #768\\nTitle: Ma...</td>\n",
       "      <td>791.0</td>\n",
       "      <td>1</td>\n",
       "      <td>Example 21: \\nLeetCode Problem #768\\nTitle: Ma...</td>\n",
       "      <td>\\nMax Chunks To Make Sorted II\\n\\nGiven an ar...</td>\n",
       "      <td>0.947043</td>\n",
       "    </tr>\n",
       "    <tr>\n",
       "      <th>14</th>\n",
       "      <td>Example 1: \\nLeetCode Problem #791\\nTitle: Cus...</td>\n",
       "      <td>Example 21: \\nLeetCode Problem #812\\nTitle: La...</td>\n",
       "      <td>621</td>\n",
       "      <td>832.0</td>\n",
       "      <td>1</td>\n",
       "      <td>Example 21: \\nLeetCode Problem #812\\nTitle: La...</td>\n",
       "      <td>\\nLargest Triangle Area\\n\\nYou have a list of...</td>\n",
       "      <td>0.942623</td>\n",
       "      <td>Example 1: \\nLeetCode Problem #791\\nTitle: Cus...</td>\n",
       "      <td>Example 21: \\nLeetCode Problem #812\\nTitle: La...</td>\n",
       "      <td>832.0</td>\n",
       "      <td>1</td>\n",
       "      <td>Example 21: \\nLeetCode Problem #812\\nTitle: La...</td>\n",
       "      <td>\\nLargest Triangle Area\\n\\nYou are given an a...</td>\n",
       "      <td>0.957235</td>\n",
       "    </tr>\n",
       "    <tr>\n",
       "      <th>15</th>\n",
       "      <td>Example 1: \\nLeetCode Problem #872\\nTitle: Lea...</td>\n",
       "      <td>Example 21: \\nLeetCode Problem #892\\nTitle: Su...</td>\n",
       "      <td>701</td>\n",
       "      <td>912.0</td>\n",
       "      <td>1</td>\n",
       "      <td>Example 21:\\nLeetCode Problem #892\\nTitle: Sur...</td>\n",
       "      <td>\\nSurface Area of 3D Shapes\\n\\nOn a N * N grid...</td>\n",
       "      <td>0.939961</td>\n",
       "      <td>Example 1: \\nLeetCode Problem #872\\nTitle: Lea...</td>\n",
       "      <td>Example 21: \\nLeetCode Problem #892\\nTitle: Su...</td>\n",
       "      <td>912.0</td>\n",
       "      <td>1</td>\n",
       "      <td>Example 21: \\nLeetCode Problem #892\\nTitle: Su...</td>\n",
       "      <td>\\nSurface Area of 3D Shapes\\n\\nYou are given ...</td>\n",
       "      <td>0.961712</td>\n",
       "    </tr>\n",
       "    <tr>\n",
       "      <th>16</th>\n",
       "      <td>Example 1: \\nLeetCode Problem #912\\nTitle: Sor...</td>\n",
       "      <td>Example 21: \\nLeetCode Problem #932\\nTitle: Be...</td>\n",
       "      <td>741</td>\n",
       "      <td>952.0</td>\n",
       "      <td>1</td>\n",
       "      <td>Example 21: \\nLeetCode Problem #932\\nTitle: Be...</td>\n",
       "      <td>\\nBeautiful Array\\n\\nFor some fixed n, an arr...</td>\n",
       "      <td>0.956026</td>\n",
       "      <td>Example 1: \\nLeetCode Problem #912\\nTitle: Sor...</td>\n",
       "      <td>Example 21: \\nLeetCode Problem #932\\nTitle: Be...</td>\n",
       "      <td>952.0</td>\n",
       "      <td>1</td>\n",
       "      <td>Example 21: \\nLeetCode Problem #932\\nTitle: Be...</td>\n",
       "      <td>\\nBeautiful Array\\n\\nFor some fixed value of ...</td>\n",
       "      <td>0.952699</td>\n",
       "    </tr>\n",
       "    <tr>\n",
       "      <th>17</th>\n",
       "      <td>Example 1: \\nLeetCode Problem #992\\nTitle: Sub...</td>\n",
       "      <td>Example 21: \\nLeetCode Problem #1012\\nTitle: N...</td>\n",
       "      <td>821</td>\n",
       "      <td>1032.0</td>\n",
       "      <td>1</td>\n",
       "      <td>Example 21: \\nLeetCode Problem #1012\\nTitle: N...</td>\n",
       "      <td>\\nNumbers With Repeated Digits\\n\\nGiven a pos...</td>\n",
       "      <td>0.975161</td>\n",
       "      <td>Example 1: \\nLeetCode Problem #992\\nTitle: Sub...</td>\n",
       "      <td>Example 21: \\nLeetCode Problem #1012\\nTitle: N...</td>\n",
       "      <td>1032.0</td>\n",
       "      <td>1</td>\n",
       "      <td>Example 21: \\nLeetCode Problem #1012\\nTitle: N...</td>\n",
       "      <td>\\nNumbers With Repeated Digits\\n\\nGiven a pos...</td>\n",
       "      <td>0.974782</td>\n",
       "    </tr>\n",
       "    <tr>\n",
       "      <th>18</th>\n",
       "      <td>Example 1: \\nLeetCode Problem #1032\\nTitle: St...</td>\n",
       "      <td>Example 21: \\nLeetCode Problem #1054\\nTitle: D...</td>\n",
       "      <td>861</td>\n",
       "      <td>1105.0</td>\n",
       "      <td>1</td>\n",
       "      <td>Example 21:\\nLeetCode Problem #1054\\nTitle: Di...</td>\n",
       "      <td>\\nDistant Barcodes\\n\\nIn a warehouse, there is...</td>\n",
       "      <td>0.924632</td>\n",
       "      <td>Example 1: \\nLeetCode Problem #1032\\nTitle: St...</td>\n",
       "      <td>Example 21: \\nLeetCode Problem #1054\\nTitle: D...</td>\n",
       "      <td>1105.0</td>\n",
       "      <td>1</td>\n",
       "      <td>Example 21: \\nLeetCode Problem #1054\\nTitle: D...</td>\n",
       "      <td>\\nDistant Barcodes\\n\\nIn a warehouse, there i...</td>\n",
       "      <td>0.951044</td>\n",
       "    </tr>\n",
       "    <tr>\n",
       "      <th>19</th>\n",
       "      <td>Example 1: \\nLeetCode Problem #1105\\nTitle: Fi...</td>\n",
       "      <td>Example 21: \\nLeetCode Problem #1145\\nTitle: B...</td>\n",
       "      <td>901</td>\n",
       "      <td>1186.0</td>\n",
       "      <td>1</td>\n",
       "      <td>Example 21: \\nLeetCode Problem #1145\\nTitle: B...</td>\n",
       "      <td>\\nBinary Tree Coloring Game\\n\\nTwo players pl...</td>\n",
       "      <td>0.953458</td>\n",
       "      <td>Example 1: \\nLeetCode Problem #1105\\nTitle: Fi...</td>\n",
       "      <td>Example 21: \\nLeetCode Problem #1145\\nTitle: B...</td>\n",
       "      <td>1186.0</td>\n",
       "      <td>1</td>\n",
       "      <td>Example 21: \\nLeetCode Problem #1145\\nTitle: B...</td>\n",
       "      <td>\\nBinary Tree Coloring Game\\n\\nTwo players pl...</td>\n",
       "      <td>0.963340</td>\n",
       "    </tr>\n",
       "    <tr>\n",
       "      <th>20</th>\n",
       "      <td>Example 1: \\nLeetCode Problem #1186\\nTitle: Ma...</td>\n",
       "      <td>Example 21: \\nLeetCode Problem #1222\\nTitle: Q...</td>\n",
       "      <td>941</td>\n",
       "      <td>1260.0</td>\n",
       "      <td>1</td>\n",
       "      <td>Example 21: \\nLeetCode Problem #1222\\nTitle: Q...</td>\n",
       "      <td>\\nQueens That Can Attack the King\\n\\nOn an 8x...</td>\n",
       "      <td>0.949100</td>\n",
       "      <td>Example 1: \\nLeetCode Problem #1186\\nTitle: Ma...</td>\n",
       "      <td>Example 21: \\nLeetCode Problem #1222\\nTitle: Q...</td>\n",
       "      <td>1260.0</td>\n",
       "      <td>1</td>\n",
       "      <td>Example 21: \\nLeetCode Problem #1222\\nTitle: Q...</td>\n",
       "      <td>\\nQueens That Can Attack the King\\n\\nOn an 8x...</td>\n",
       "      <td>0.940451</td>\n",
       "    </tr>\n",
       "    <tr>\n",
       "      <th>21</th>\n",
       "      <td>Example 1: \\nLeetCode Problem #1260\\nTitle: Sh...</td>\n",
       "      <td>Example 21: \\nLeetCode Problem #1290\\nTitle: C...</td>\n",
       "      <td>981</td>\n",
       "      <td>1313.0</td>\n",
       "      <td>1</td>\n",
       "      <td>Example 21: \\nLeetCode Problem #1290\\nTitle: C...</td>\n",
       "      <td>\\nConvert Binary Number in a Linked List to I...</td>\n",
       "      <td>0.932571</td>\n",
       "      <td>Example 1: \\nLeetCode Problem #1260\\nTitle: Sh...</td>\n",
       "      <td>Example 21: \\nLeetCode Problem #1290\\nTitle: C...</td>\n",
       "      <td>1313.0</td>\n",
       "      <td>1</td>\n",
       "      <td>Example 21: \\nLeetCode Problem #1290\\nTitle: C...</td>\n",
       "      <td>\\nConvert Binary Number in a Linked List to I...</td>\n",
       "      <td>0.959612</td>\n",
       "    </tr>\n",
       "    <tr>\n",
       "      <th>22</th>\n",
       "      <td>Example 1: \\nLeetCode Problem #1313\\nTitle: De...</td>\n",
       "      <td>Example 21: \\nLeetCode Problem #1337\\nTitle: T...</td>\n",
       "      <td>1021</td>\n",
       "      <td>1360.0</td>\n",
       "      <td>1</td>\n",
       "      <td>Example 21: \\nLeetCode Problem #1336\\nTitle: N...</td>\n",
       "      <td>\\nNumber of Transactions for Each Person\\n\\nY...</td>\n",
       "      <td>0.972872</td>\n",
       "      <td>Example 1: \\nLeetCode Problem #1313\\nTitle: De...</td>\n",
       "      <td>Example 21: \\nLeetCode Problem #1337\\nTitle: T...</td>\n",
       "      <td>1360.0</td>\n",
       "      <td>1</td>\n",
       "      <td>Example 21: \\nLeetCode Problem #1336\\nTitle: N...</td>\n",
       "      <td>\\nNumber of Steps to Reduce a Number in Binar...</td>\n",
       "      <td>0.951928</td>\n",
       "    </tr>\n",
       "    <tr>\n",
       "      <th>23</th>\n",
       "      <td>Example 1: \\nLeetCode Problem #1360\\nTitle: Nu...</td>\n",
       "      <td>Example 21: \\nLeetCode Problem #1383\\nTitle: M...</td>\n",
       "      <td>1061</td>\n",
       "      <td>1406.0</td>\n",
       "      <td>1</td>\n",
       "      <td>Example 21: \\nLeetCode Problem #1383\\nTitle: M...</td>\n",
       "      <td>\\nMaximum Performance of a Team\\n\\nThere are ...</td>\n",
       "      <td>0.941467</td>\n",
       "      <td>Example 1: \\nLeetCode Problem #1360\\nTitle: Nu...</td>\n",
       "      <td>Example 21: \\nLeetCode Problem #1383\\nTitle: M...</td>\n",
       "      <td>1406.0</td>\n",
       "      <td>1</td>\n",
       "      <td>Example 21: \\nLeetCode Problem #1383\\nTitle: M...</td>\n",
       "      <td>\\nMaximum Performance of a Team\\n\\nThere are ...</td>\n",
       "      <td>0.959704</td>\n",
       "    </tr>\n",
       "    <tr>\n",
       "      <th>24</th>\n",
       "      <td>Example 1: \\nLeetCode Problem #1406\\nTitle: St...</td>\n",
       "      <td>Example 21: \\nLeetCode Problem #1434\\nTitle: N...</td>\n",
       "      <td>1101</td>\n",
       "      <td>1458.0</td>\n",
       "      <td>1</td>\n",
       "      <td>Example 21: \\nLeetCode Problem #1434\\nTitle: N...</td>\n",
       "      <td>\\nNumber of Ways to Wear Different Hats to Ea...</td>\n",
       "      <td>0.938095</td>\n",
       "      <td>Example 1: \\nLeetCode Problem #1406\\nTitle: St...</td>\n",
       "      <td>Example 21: \\nLeetCode Problem #1434\\nTitle: N...</td>\n",
       "      <td>1458.0</td>\n",
       "      <td>1</td>\n",
       "      <td>Example 21: \\nLeetCode Problem #1434\\nTitle: N...</td>\n",
       "      <td>\\nNumber of Ways to Wear Different Hats to Ea...</td>\n",
       "      <td>0.979014</td>\n",
       "    </tr>\n",
       "    <tr>\n",
       "      <th>25</th>\n",
       "      <td>Example 1: \\nLeetCode Problem #1458\\nTitle: Ma...</td>\n",
       "      <td>Example 21: \\nLeetCode Problem #1483\\nTitle: K...</td>\n",
       "      <td>1141</td>\n",
       "      <td>1510.0</td>\n",
       "      <td>1</td>\n",
       "      <td>Example 21:\\nLeetCode Problem #1483\\nTitle: Kt...</td>\n",
       "      <td>\\nKth Ancestor of a Tree Node\\n\\nYou are given...</td>\n",
       "      <td>0.962724</td>\n",
       "      <td>Example 1: \\nLeetCode Problem #1458\\nTitle: Ma...</td>\n",
       "      <td>Example 21: \\nLeetCode Problem #1483\\nTitle: K...</td>\n",
       "      <td>1510.0</td>\n",
       "      <td>1</td>\n",
       "      <td>Example 21: \\nLeetCode Problem #1483\\nTitle: K...</td>\n",
       "      <td>\\nKth Ancestor of a Tree Node\\n\\nYou are give...</td>\n",
       "      <td>0.969083</td>\n",
       "    </tr>\n",
       "    <tr>\n",
       "      <th>26</th>\n",
       "      <td>Example 1: \\nLeetCode Problem #1510\\nTitle: St...</td>\n",
       "      <td>Example 21: \\nLeetCode Problem #1537\\nTitle: G...</td>\n",
       "      <td>1181</td>\n",
       "      <td>1563.0</td>\n",
       "      <td>1</td>\n",
       "      <td>Example 21: \\nLeetCode Problem #1537\\nTitle: G...</td>\n",
       "      <td>\\nGet the Maximum Score\\n\\n \\nGuess the Major...</td>\n",
       "      <td>0.895674</td>\n",
       "      <td>Example 1: \\nLeetCode Problem #1510\\nTitle: St...</td>\n",
       "      <td>Example 21: \\nLeetCode Problem #1537\\nTitle: G...</td>\n",
       "      <td>1563.0</td>\n",
       "      <td>1</td>\n",
       "      <td>Example 21: \\nLeetCode Problem #1537\\nTitle: G...</td>\n",
       "      <td>\\nGet the Maximum Score\\n\\nYou are given two ...</td>\n",
       "      <td>0.981642</td>\n",
       "    </tr>\n",
       "    <tr>\n",
       "      <th>27</th>\n",
       "      <td>Example 1: \\nLeetCode Problem #1617\\nTitle: Co...</td>\n",
       "      <td>Example 21: \\nLeetCode Problem #1643\\nTitle: K...</td>\n",
       "      <td>1261</td>\n",
       "      <td>1671.0</td>\n",
       "      <td>1</td>\n",
       "      <td>Example 21: \\nLeetCode Problem #1643\\nTitle: K...</td>\n",
       "      <td>\\nKth Smallest Instructions\\n\\nYou are given ...</td>\n",
       "      <td>0.935454</td>\n",
       "      <td>Example 1: \\nLeetCode Problem #1617\\nTitle: Co...</td>\n",
       "      <td>Example 21: \\nLeetCode Problem #1643\\nTitle: K...</td>\n",
       "      <td>1671.0</td>\n",
       "      <td>1</td>\n",
       "      <td>Example 21: \\nLeetCode Problem #1643\\nTitle: K...</td>\n",
       "      <td>\\nKth Smallest Instructions\\n\\nBob is standin...</td>\n",
       "      <td>0.980127</td>\n",
       "    </tr>\n",
       "    <tr>\n",
       "      <th>28</th>\n",
       "      <td>Example 1: \\nLeetCode Problem #1671\\nTitle: Mi...</td>\n",
       "      <td>Example 21: \\nLeetCode Problem #1697\\nTitle: C...</td>\n",
       "      <td>1301</td>\n",
       "      <td>1723.0</td>\n",
       "      <td>1</td>\n",
       "      <td>Example 21: \\nLeetCode Problem #1700\\nTitle: N...</td>\n",
       "      <td>\\nNumber of Students Unable to Eat Lunch\\n\\nT...</td>\n",
       "      <td>0.856831</td>\n",
       "      <td>Example 1: \\nLeetCode Problem #1671\\nTitle: Mi...</td>\n",
       "      <td>Example 21: \\nLeetCode Problem #1697\\nTitle: C...</td>\n",
       "      <td>1723.0</td>\n",
       "      <td>1</td>\n",
       "      <td>Example 21: \\nLeetCode Problem #1697\\nTitle: C...</td>\n",
       "      <td>\\nChecking Existence of Edge Length Limited P...</td>\n",
       "      <td>0.897096</td>\n",
       "    </tr>\n",
       "    <tr>\n",
       "      <th>29</th>\n",
       "      <td>Example 1: \\nLeetCode Problem #1723\\nTitle: Fi...</td>\n",
       "      <td>Example 21: \\nLeetCode Problem #1751\\nTitle: M...</td>\n",
       "      <td>1341</td>\n",
       "      <td>1776.0</td>\n",
       "      <td>1</td>\n",
       "      <td>Example 21: \\nLeetCode Problem #1751\\nTitle: M...</td>\n",
       "      <td>\\nMaximum Number of Events That Can Be Attend...</td>\n",
       "      <td>0.971547</td>\n",
       "      <td>Example 1: \\nLeetCode Problem #1723\\nTitle: Fi...</td>\n",
       "      <td>Example 21: \\nLeetCode Problem #1751\\nTitle: M...</td>\n",
       "      <td>1776.0</td>\n",
       "      <td>1</td>\n",
       "      <td>Example 21: \\nLeetCode Problem #1751\\nTitle: M...</td>\n",
       "      <td>\\nMaximum Students Taking Exam\\n\\nGiven a m *...</td>\n",
       "      <td>0.887120</td>\n",
       "    </tr>\n",
       "    <tr>\n",
       "      <th>30</th>\n",
       "      <td>Example 1: \\nLeetCode Problem #1776\\nTitle: Ca...</td>\n",
       "      <td>Example 21: \\nLeetCode Problem #1803\\nTitle: C...</td>\n",
       "      <td>1381</td>\n",
       "      <td>1830.0</td>\n",
       "      <td>1</td>\n",
       "      <td>Example 21: \\nLeetCode Problem #1803\\nTitle: C...</td>\n",
       "      <td>\\nCount Pairs With XOR in a Range\\n\\nGiven a ...</td>\n",
       "      <td>0.965861</td>\n",
       "      <td>Example 1: \\nLeetCode Problem #1776\\nTitle: Ca...</td>\n",
       "      <td>Example 21: \\nLeetCode Problem #1803\\nTitle: C...</td>\n",
       "      <td>1830.0</td>\n",
       "      <td>1</td>\n",
       "      <td>Example 21: \\nLeetCode Problem #1803\\nTitle: C...</td>\n",
       "      <td>\\nCount of Pairs with XOR Sum Equal to Zero\\n...</td>\n",
       "      <td>0.947628</td>\n",
       "    </tr>\n",
       "    <tr>\n",
       "      <th>31</th>\n",
       "      <td>Example 1: \\nLeetCode Problem #1830\\nTitle: Mi...</td>\n",
       "      <td>Example 21: \\nLeetCode Problem #1857\\nTitle: L...</td>\n",
       "      <td>1421</td>\n",
       "      <td>1883.0</td>\n",
       "      <td>1</td>\n",
       "      <td>Example 21: \\nLeetCode Problem #1857\\nTitle: L...</td>\n",
       "      <td>\\nLargest Color Value in a Directed Graph\\n\\n...</td>\n",
       "      <td>0.963065</td>\n",
       "      <td>Example 1: \\nLeetCode Problem #1830\\nTitle: Mi...</td>\n",
       "      <td>Example 21: \\nLeetCode Problem #1857\\nTitle: L...</td>\n",
       "      <td>1883.0</td>\n",
       "      <td>1</td>\n",
       "      <td>Example 21: \\nLeetCode Problem #1857\\nTitle: L...</td>\n",
       "      <td>\\nLargest Color Value in a Directed Graph\\n\\n...</td>\n",
       "      <td>0.972613</td>\n",
       "    </tr>\n",
       "    <tr>\n",
       "      <th>32</th>\n",
       "      <td>Example 1: \\nLeetCode Problem #1883\\nTitle: Mi...</td>\n",
       "      <td>Example 21: \\nLeetCode Problem #1910\\nTitle: R...</td>\n",
       "      <td>1461</td>\n",
       "      <td>1936.0</td>\n",
       "      <td>1</td>\n",
       "      <td>Example 21: \\nLeetCode Problem #1910\\nTitle: R...</td>\n",
       "      <td>\\nRemove All Occurrences of a Substring\\n\\nGi...</td>\n",
       "      <td>0.975333</td>\n",
       "      <td>Example 1: \\nLeetCode Problem #1883\\nTitle: Mi...</td>\n",
       "      <td>Example 21: \\nLeetCode Problem #1910\\nTitle: R...</td>\n",
       "      <td>1936.0</td>\n",
       "      <td>1</td>\n",
       "      <td>Example 21: \\nLeetCode Problem #1910\\nTitle: R...</td>\n",
       "      <td>\\nRemove All Occurrences of a Substring\\n\\nGi...</td>\n",
       "      <td>0.983008</td>\n",
       "    </tr>\n",
       "    <tr>\n",
       "      <th>33</th>\n",
       "      <td>Example 1: \\nLeetCode Problem #1936\\nTitle: Ad...</td>\n",
       "      <td>Example 21: \\nLeetCode Problem #1962\\nTitle: R...</td>\n",
       "      <td>1501</td>\n",
       "      <td>1991.0</td>\n",
       "      <td>1</td>\n",
       "      <td>Example 21: \\nLeetCode Problem #1963\\nTitle: M...</td>\n",
       "      <td>\\nMinimum Number of Swaps to Make the Binary ...</td>\n",
       "      <td>0.864474</td>\n",
       "      <td>Example 1: \\nLeetCode Problem #1936\\nTitle: Ad...</td>\n",
       "      <td>Example 21: \\nLeetCode Problem #1962\\nTitle: R...</td>\n",
       "      <td>1991.0</td>\n",
       "      <td>1</td>\n",
       "      <td>Example 21: \\nLeetCode Problem #1962\\nTitle: R...</td>\n",
       "      <td>\\nRemove Stones to Minimize the Total\\n\\nYou ...</td>\n",
       "      <td>0.982566</td>\n",
       "    </tr>\n",
       "    <tr>\n",
       "      <th>34</th>\n",
       "      <td>Example 1: \\nLeetCode Problem #1991\\nTitle: Fi...</td>\n",
       "      <td>Example 21: \\nLeetCode Problem #2016\\nTitle: M...</td>\n",
       "      <td>1541</td>\n",
       "      <td>2042.0</td>\n",
       "      <td>1</td>\n",
       "      <td>Example 21: \\nLeetCode Problem #2015\\nTitle: L...</td>\n",
       "      <td>\\nLongest More Frequent Subtree Sum\\n\\nGiven ...</td>\n",
       "      <td>0.782973</td>\n",
       "      <td>Example 1: \\nLeetCode Problem #1991\\nTitle: Fi...</td>\n",
       "      <td>Example 21: \\nLeetCode Problem #2016\\nTitle: M...</td>\n",
       "      <td>2042.0</td>\n",
       "      <td>1</td>\n",
       "      <td>Example 21: \\nLeetCode Problem #2015\\nTitle: M...</td>\n",
       "      <td>\\nMaximum Number of Ways to Partition an Arra...</td>\n",
       "      <td>0.893482</td>\n",
       "    </tr>\n",
       "    <tr>\n",
       "      <th>35</th>\n",
       "      <td>Example 1: \\nLeetCode Problem #2042\\nTitle: Ch...</td>\n",
       "      <td>Example 21: \\nLeetCode Problem #2068\\nTitle: C...</td>\n",
       "      <td>1581</td>\n",
       "      <td>2094.0</td>\n",
       "      <td>1</td>\n",
       "      <td>Example 21: \\nLeetCode Problem #2066\\nTitle: M...</td>\n",
       "      <td>\\nMinimum Steps to Make Two Strings Anagram\\n...</td>\n",
       "      <td>0.786732</td>\n",
       "      <td>Example 1: \\nLeetCode Problem #2042\\nTitle: Ch...</td>\n",
       "      <td>Example 21: \\nLeetCode Problem #2068\\nTitle: C...</td>\n",
       "      <td>2094.0</td>\n",
       "      <td>1</td>\n",
       "      <td>Example 21: \\nLeetCode Problem #2066\\nTitle: N...</td>\n",
       "      <td>\\nNumber of Islands in a Graph\\n\\nThere is an...</td>\n",
       "      <td>0.782898</td>\n",
       "    </tr>\n",
       "    <tr>\n",
       "      <th>36</th>\n",
       "      <td>Example 1: \\nLeetCode Problem #2094\\nTitle: Fi...</td>\n",
       "      <td>Example 21: \\nLeetCode Problem #2119\\nTitle: A...</td>\n",
       "      <td>1621</td>\n",
       "      <td>2144.0</td>\n",
       "      <td>1</td>\n",
       "      <td>Example 21: \\nLeetCode Problem #2118\\nTitle: I...</td>\n",
       "      <td>\\nIdentifying Redundant Connections in a Netw...</td>\n",
       "      <td>0.805890</td>\n",
       "      <td>Example 1: \\nLeetCode Problem #2094\\nTitle: Fi...</td>\n",
       "      <td>Example 21: \\nLeetCode Problem #2119\\nTitle: A...</td>\n",
       "      <td>2144.0</td>\n",
       "      <td>1</td>\n",
       "      <td>Example 21: \\nLeetCode Problem #2118\\nTitle: M...</td>\n",
       "      <td>\\nMerge Two Sorted Linked Lists\\n\\nYou are gi...</td>\n",
       "      <td>0.774505</td>\n",
       "    </tr>\n",
       "    <tr>\n",
       "      <th>37</th>\n",
       "      <td>Example 1: \\nLeetCode Problem #2144\\nTitle: Mi...</td>\n",
       "      <td>Example 21: \\nLeetCode Problem #2169\\nTitle: C...</td>\n",
       "      <td>1661</td>\n",
       "      <td>2194.0</td>\n",
       "      <td>1</td>\n",
       "      <td>Example 21: \\nLeetCode Problem #2168\\nTitle: L...</td>\n",
       "      <td>\\nLargest Subarray with Equal Number of Even ...</td>\n",
       "      <td>0.823007</td>\n",
       "      <td>Example 1: \\nLeetCode Problem #2144\\nTitle: Mi...</td>\n",
       "      <td>Example 21: \\nLeetCode Problem #2169\\nTitle: C...</td>\n",
       "      <td>2194.0</td>\n",
       "      <td>1</td>\n",
       "      <td>Example 21: \\nLeetCode Problem #2168\\nTitle: M...</td>\n",
       "      <td>\\nMinimum Steps to Acquire All Elements of th...</td>\n",
       "      <td>0.858844</td>\n",
       "    </tr>\n",
       "    <tr>\n",
       "      <th>38</th>\n",
       "      <td>Example 1: \\nLeetCode Problem #2194\\nTitle: Ce...</td>\n",
       "      <td>Example 21: \\nLeetCode Problem #2220\\nTitle: M...</td>\n",
       "      <td>1701</td>\n",
       "      <td>2245.0</td>\n",
       "      <td>1</td>\n",
       "      <td>Example 21: \\nLeetCode Problem #2219\\nTitle: C...</td>\n",
       "      <td>\\nCount Triangles in a Grid\\n\\nYou are given ...</td>\n",
       "      <td>0.811878</td>\n",
       "      <td>Example 1: \\nLeetCode Problem #2194\\nTitle: Ce...</td>\n",
       "      <td>Example 21: \\nLeetCode Problem #2220\\nTitle: M...</td>\n",
       "      <td>2245.0</td>\n",
       "      <td>1</td>\n",
       "      <td>Example 21: \\nLeetCode Problem #2219\\nTitle: M...</td>\n",
       "      <td>\\nMaximize the Number of Squares in Grid\\n\\nY...</td>\n",
       "      <td>0.825604</td>\n",
       "    </tr>\n",
       "    <tr>\n",
       "      <th>39</th>\n",
       "      <td>Example 1: \\nLeetCode Problem #2245\\nTitle: Ma...</td>\n",
       "      <td>Example 21: \\nLeetCode Problem #2271\\nTitle: M...</td>\n",
       "      <td>1741</td>\n",
       "      <td>2295.0</td>\n",
       "      <td>1</td>\n",
       "      <td>Example 21: \\nLeetCode Problem #2271\\nTitle: F...</td>\n",
       "      <td>\\nFind Missing Element in Array\\n\\nGiven an a...</td>\n",
       "      <td>0.823181</td>\n",
       "      <td>Example 1: \\nLeetCode Problem #2245\\nTitle: Ma...</td>\n",
       "      <td>Example 21: \\nLeetCode Problem #2271\\nTitle: M...</td>\n",
       "      <td>2295.0</td>\n",
       "      <td>1</td>\n",
       "      <td>Example 21: \\nLeetCode Problem #2271\\nTitle: F...</td>\n",
       "      <td>\\nFinding Pair in a Binary Tree\\n\\nGiven the ...</td>\n",
       "      <td>0.765736</td>\n",
       "    </tr>\n",
       "    <tr>\n",
       "      <th>40</th>\n",
       "      <td>Example 1: \\nLeetCode Problem #2295\\nTitle: Re...</td>\n",
       "      <td>Example 21: \\nLeetCode Problem #2321\\nTitle: M...</td>\n",
       "      <td>1781</td>\n",
       "      <td>2349.0</td>\n",
       "      <td>1</td>\n",
       "      <td>Example 21: \\nLeetCode Problem #2321\\nTitle: M...</td>\n",
       "      <td>\\nMaximum Points in a Plane\\n\\nYou are given ...</td>\n",
       "      <td>0.836340</td>\n",
       "      <td>Example 1: \\nLeetCode Problem #2295\\nTitle: Re...</td>\n",
       "      <td>Example 21: \\nLeetCode Problem #2321\\nTitle: M...</td>\n",
       "      <td>2349.0</td>\n",
       "      <td>1</td>\n",
       "      <td>Example 21: \\nLeetCode Problem #2321\\nTitle: M...</td>\n",
       "      <td>\\nMaximum Number of Games Played\\n\\nYou are g...</td>\n",
       "      <td>0.844239</td>\n",
       "    </tr>\n",
       "    <tr>\n",
       "      <th>41</th>\n",
       "      <td>Example 1: \\nLeetCode Problem #2349\\nTitle: De...</td>\n",
       "      <td>Example 21: \\nLeetCode Problem #2375\\nTitle: C...</td>\n",
       "      <td>1821</td>\n",
       "      <td>2401.0</td>\n",
       "      <td>1</td>\n",
       "      <td>Example 21: \\nLeetCode Problem #2375\\nTitle: S...</td>\n",
       "      <td>\\nSecond Largest Element in an Array\\n\\nYou a...</td>\n",
       "      <td>0.795532</td>\n",
       "      <td>Example 1: \\nLeetCode Problem #2349\\nTitle: De...</td>\n",
       "      <td>Example 21: \\nLeetCode Problem #2375\\nTitle: C...</td>\n",
       "      <td>2401.0</td>\n",
       "      <td>1</td>\n",
       "      <td>Example 21: \\nLeetCode Problem #2375\\nTitle: S...</td>\n",
       "      <td>\\nSum of Differences Between Neighboring Node...</td>\n",
       "      <td>0.791942</td>\n",
       "    </tr>\n",
       "    <tr>\n",
       "      <th>42</th>\n",
       "      <td>Example 1: \\nLeetCode Problem #2401\\nTitle: Lo...</td>\n",
       "      <td>Example 21: \\nLeetCode Problem #2425\\nTitle: B...</td>\n",
       "      <td>1861</td>\n",
       "      <td>2448.0</td>\n",
       "      <td>1</td>\n",
       "      <td>Example 21: \\nLeetCode Problem #2425\\nTitle: M...</td>\n",
       "      <td>\\nMaximum Score of Removing Duplicates\\n\\nYou...</td>\n",
       "      <td>0.818819</td>\n",
       "      <td>Example 1: \\nLeetCode Problem #2401\\nTitle: Lo...</td>\n",
       "      <td>Example 21: \\nLeetCode Problem #2425\\nTitle: B...</td>\n",
       "      <td>2448.0</td>\n",
       "      <td>1</td>\n",
       "      <td>Example 21: \\nLeetCode Problem #2425\\nTitle: R...</td>\n",
       "      <td>\\nReplace All Adjacent Duplicates in String\\n...</td>\n",
       "      <td>0.782253</td>\n",
       "    </tr>\n",
       "    <tr>\n",
       "      <th>43</th>\n",
       "      <td>Example 1: \\nLeetCode Problem #2448\\nTitle: Mi...</td>\n",
       "      <td>Example 21: \\nLeetCode Problem #2471\\nTitle: M...</td>\n",
       "      <td>1901</td>\n",
       "      <td>2498.0</td>\n",
       "      <td>1</td>\n",
       "      <td>Example 21: \\nLeetCode Problem #2471\\nTitle: S...</td>\n",
       "      <td>\\nSum of Absolute Differences in a Sorted Arr...</td>\n",
       "      <td>0.823110</td>\n",
       "      <td>Example 1: \\nLeetCode Problem #2448\\nTitle: Mi...</td>\n",
       "      <td>Example 21: \\nLeetCode Problem #2471\\nTitle: M...</td>\n",
       "      <td>2498.0</td>\n",
       "      <td>1</td>\n",
       "      <td>Example 21: \\nLeetCode Problem #2471\\nTitle: M...</td>\n",
       "      <td>\\nMaximum Area of Overlapping Rectangles\\n\\nG...</td>\n",
       "      <td>0.816263</td>\n",
       "    </tr>\n",
       "    <tr>\n",
       "      <th>44</th>\n",
       "      <td>Example 1: \\nLeetCode Problem #2498\\nTitle: Fr...</td>\n",
       "      <td>Example 21: \\nLeetCode Problem #2522\\nTitle: P...</td>\n",
       "      <td>1941</td>\n",
       "      <td>2546.0</td>\n",
       "      <td>1</td>\n",
       "      <td>Example 21: \\nLeetCode Problem #2522\\nTitle: L...</td>\n",
       "      <td>\\nLongest Subsequence with Odd Sum\\n\\nYou are...</td>\n",
       "      <td>0.841413</td>\n",
       "      <td>Example 1: \\nLeetCode Problem #2498\\nTitle: Fr...</td>\n",
       "      <td>Example 21: \\nLeetCode Problem #2522\\nTitle: P...</td>\n",
       "      <td>2546.0</td>\n",
       "      <td>1</td>\n",
       "      <td>Example 21: \\nLeetCode Problem #2522\\nTitle: M...</td>\n",
       "      <td>\\nMaximum Sum of Array After K Negations\\n\\nG...</td>\n",
       "      <td>0.846009</td>\n",
       "    </tr>\n",
       "    <tr>\n",
       "      <th>45</th>\n",
       "      <td>Example 1: \\nLeetCode Problem #2546\\nTitle: Ap...</td>\n",
       "      <td>Example 21: \\nLeetCode Problem #2568\\nTitle: M...</td>\n",
       "      <td>1981</td>\n",
       "      <td>2588.0</td>\n",
       "      <td>1</td>\n",
       "      <td>Example 21: \\nLeetCode Problem #2568\\nTitle: M...</td>\n",
       "      <td>\\nMaximum Sum of 3 Non-Overlapping Subarrays\\...</td>\n",
       "      <td>0.870436</td>\n",
       "      <td>Example 1: \\nLeetCode Problem #2546\\nTitle: Ap...</td>\n",
       "      <td>Example 21: \\nLeetCode Problem #2568\\nTitle: M...</td>\n",
       "      <td>2588.0</td>\n",
       "      <td>1</td>\n",
       "      <td>Example 21: \\nLeetCode Problem #2568\\nTitle: M...</td>\n",
       "      <td>\\nMaximum Groups of Consecutive Integers\\n\\nY...</td>\n",
       "      <td>0.892147</td>\n",
       "    </tr>\n",
       "    <tr>\n",
       "      <th>46</th>\n",
       "      <td>Example 1: \\nLeetCode Problem #2588\\nTitle: Co...</td>\n",
       "      <td>Example 21: \\nLeetCode Problem #2611\\nTitle: M...</td>\n",
       "      <td>2021</td>\n",
       "      <td>2658.0</td>\n",
       "      <td>1</td>\n",
       "      <td>Example 21: \\nLeetCode Problem #2611\\nTitle: F...</td>\n",
       "      <td>\\nFind the Maximum XOR of Two Numbers in an A...</td>\n",
       "      <td>0.832208</td>\n",
       "      <td>Example 1: \\nLeetCode Problem #2588\\nTitle: Co...</td>\n",
       "      <td>Example 21: \\nLeetCode Problem #2611\\nTitle: M...</td>\n",
       "      <td>2658.0</td>\n",
       "      <td>1</td>\n",
       "      <td>Example 21: \\nLeetCode Problem #2611\\nTitle: C...</td>\n",
       "      <td>\\nCalculate Minimum Operations to Equal Two A...</td>\n",
       "      <td>0.862262</td>\n",
       "    </tr>\n",
       "    <tr>\n",
       "      <th>47</th>\n",
       "      <td>Example 1: \\nLeetCode Problem #2658\\nTitle: Ma...</td>\n",
       "      <td>Example 21: \\nLeetCode Problem #2698\\nTitle: F...</td>\n",
       "      <td>2061</td>\n",
       "      <td>2735.0</td>\n",
       "      <td>1</td>\n",
       "      <td>Example 21: \\nLeetCode Problem #2698\\nTitle: L...</td>\n",
       "      <td>\\nLongest Equal Substring\\n\\nGiven a string s...</td>\n",
       "      <td>0.784192</td>\n",
       "      <td>Example 1: \\nLeetCode Problem #2658\\nTitle: Ma...</td>\n",
       "      <td>Example 21: \\nLeetCode Problem #2698\\nTitle: F...</td>\n",
       "      <td>2735.0</td>\n",
       "      <td>1</td>\n",
       "      <td>Example 21: \\nLeetCode Problem #2698\\nTitle: M...</td>\n",
       "      <td>\\nMinimum Operations for Target Array\\n\\nYou ...</td>\n",
       "      <td>0.789200</td>\n",
       "    </tr>\n",
       "    <tr>\n",
       "      <th>48</th>\n",
       "      <td>Example 1: \\nLeetCode Problem #2735\\nTitle: Co...</td>\n",
       "      <td>Example 21: \\nLeetCode Problem #2767\\nTitle: P...</td>\n",
       "      <td>2101</td>\n",
       "      <td>2800.0</td>\n",
       "      <td>1</td>\n",
       "      <td>Example 21: \\nLeetCode Problem #2767\\nTitle: C...</td>\n",
       "      <td>\\nCount Maximum Substrings\\n\\nYou are given a...</td>\n",
       "      <td>0.866054</td>\n",
       "      <td>Example 1: \\nLeetCode Problem #2735\\nTitle: Co...</td>\n",
       "      <td>Example 21: \\nLeetCode Problem #2767\\nTitle: P...</td>\n",
       "      <td>2800.0</td>\n",
       "      <td>1</td>\n",
       "      <td>Example 21: \\nLeetCode Problem #2767\\nTitle: M...</td>\n",
       "      <td>\\nMaximum Subarray Length\\n\\nYou are given a ...</td>\n",
       "      <td>0.838008</td>\n",
       "    </tr>\n",
       "  </tbody>\n",
       "</table>\n",
       "</div>"
      ],
      "text/plain": [
       "                                 input_context_gpt3p5  \\\n",
       "0   Example 1: \\nLeetCode Problem #2\\nTitle: Add T...   \n",
       "1   Example 1: \\nLeetCode Problem #42\\nTitle: Trap...   \n",
       "2   Example 1: \\nLeetCode Problem #82\\nTitle: Remo...   \n",
       "3   Example 1: \\nLeetCode Problem #122\\nTitle: Bes...   \n",
       "4   Example 1: \\nLeetCode Problem #168\\nTitle: Exc...   \n",
       "5   Example 1: \\nLeetCode Problem #226\\nTitle: Inv...   \n",
       "6   Example 1: \\nLeetCode Problem #303\\nTitle: Ran...   \n",
       "7   Example 1: \\nLeetCode Problem #365\\nTitle: Wat...   \n",
       "8   Example 1: \\nLeetCode Problem #410\\nTitle: Spl...   \n",
       "9   Example 1: \\nLeetCode Problem #508\\nTitle: Mos...   \n",
       "10  Example 1: \\nLeetCode Problem #563\\nTitle: Bin...   \n",
       "11  Example 1: \\nLeetCode Problem #645\\nTitle: Set...   \n",
       "12  Example 1: \\nLeetCode Problem #692\\nTitle: Top...   \n",
       "13  Example 1: \\nLeetCode Problem #741\\nTitle: Che...   \n",
       "14  Example 1: \\nLeetCode Problem #791\\nTitle: Cus...   \n",
       "15  Example 1: \\nLeetCode Problem #872\\nTitle: Lea...   \n",
       "16  Example 1: \\nLeetCode Problem #912\\nTitle: Sor...   \n",
       "17  Example 1: \\nLeetCode Problem #992\\nTitle: Sub...   \n",
       "18  Example 1: \\nLeetCode Problem #1032\\nTitle: St...   \n",
       "19  Example 1: \\nLeetCode Problem #1105\\nTitle: Fi...   \n",
       "20  Example 1: \\nLeetCode Problem #1186\\nTitle: Ma...   \n",
       "21  Example 1: \\nLeetCode Problem #1260\\nTitle: Sh...   \n",
       "22  Example 1: \\nLeetCode Problem #1313\\nTitle: De...   \n",
       "23  Example 1: \\nLeetCode Problem #1360\\nTitle: Nu...   \n",
       "24  Example 1: \\nLeetCode Problem #1406\\nTitle: St...   \n",
       "25  Example 1: \\nLeetCode Problem #1458\\nTitle: Ma...   \n",
       "26  Example 1: \\nLeetCode Problem #1510\\nTitle: St...   \n",
       "27  Example 1: \\nLeetCode Problem #1617\\nTitle: Co...   \n",
       "28  Example 1: \\nLeetCode Problem #1671\\nTitle: Mi...   \n",
       "29  Example 1: \\nLeetCode Problem #1723\\nTitle: Fi...   \n",
       "30  Example 1: \\nLeetCode Problem #1776\\nTitle: Ca...   \n",
       "31  Example 1: \\nLeetCode Problem #1830\\nTitle: Mi...   \n",
       "32  Example 1: \\nLeetCode Problem #1883\\nTitle: Mi...   \n",
       "33  Example 1: \\nLeetCode Problem #1936\\nTitle: Ad...   \n",
       "34  Example 1: \\nLeetCode Problem #1991\\nTitle: Fi...   \n",
       "35  Example 1: \\nLeetCode Problem #2042\\nTitle: Ch...   \n",
       "36  Example 1: \\nLeetCode Problem #2094\\nTitle: Fi...   \n",
       "37  Example 1: \\nLeetCode Problem #2144\\nTitle: Mi...   \n",
       "38  Example 1: \\nLeetCode Problem #2194\\nTitle: Ce...   \n",
       "39  Example 1: \\nLeetCode Problem #2245\\nTitle: Ma...   \n",
       "40  Example 1: \\nLeetCode Problem #2295\\nTitle: Re...   \n",
       "41  Example 1: \\nLeetCode Problem #2349\\nTitle: De...   \n",
       "42  Example 1: \\nLeetCode Problem #2401\\nTitle: Lo...   \n",
       "43  Example 1: \\nLeetCode Problem #2448\\nTitle: Mi...   \n",
       "44  Example 1: \\nLeetCode Problem #2498\\nTitle: Fr...   \n",
       "45  Example 1: \\nLeetCode Problem #2546\\nTitle: Ap...   \n",
       "46  Example 1: \\nLeetCode Problem #2588\\nTitle: Co...   \n",
       "47  Example 1: \\nLeetCode Problem #2658\\nTitle: Ma...   \n",
       "48  Example 1: \\nLeetCode Problem #2735\\nTitle: Co...   \n",
       "\n",
       "                             expected_response_gpt3p5  iloc  \\\n",
       "0   Example 21: \\nLeetCode Problem #22\\nTitle: Gen...    21   \n",
       "1   Example 21: \\nLeetCode Problem #62\\nTitle: Uni...    61   \n",
       "2   Example 21: \\nLeetCode Problem #102\\nTitle: Bi...   101   \n",
       "3   Example 21: \\nLeetCode Problem #142\\nTitle: Li...   141   \n",
       "4   Example 21: \\nLeetCode Problem #206\\nTitle: Re...   181   \n",
       "5   Example 21: \\nLeetCode Problem #263\\nTitle: Ug...   221   \n",
       "6   Example 21: \\nLeetCode Problem #331\\nTitle: Ve...   261   \n",
       "7   Example 21: \\nLeetCode Problem #389\\nTitle: Fi...   301   \n",
       "8   Example 21: \\nLeetCode Problem #437\\nTitle: Pa...   341   \n",
       "9   Example 21: \\nLeetCode Problem #535\\nTitle: En...   421   \n",
       "10  Example 21: \\nLeetCode Problem #605\\nTitle: Ca...   461   \n",
       "11  Example 21: \\nLeetCode Problem #670\\nTitle: Ma...   501   \n",
       "12  Example 21: \\nLeetCode Problem #717\\nTitle: 1-...   541   \n",
       "13  Example 21: \\nLeetCode Problem #768\\nTitle: Ma...   581   \n",
       "14  Example 21: \\nLeetCode Problem #812\\nTitle: La...   621   \n",
       "15  Example 21: \\nLeetCode Problem #892\\nTitle: Su...   701   \n",
       "16  Example 21: \\nLeetCode Problem #932\\nTitle: Be...   741   \n",
       "17  Example 21: \\nLeetCode Problem #1012\\nTitle: N...   821   \n",
       "18  Example 21: \\nLeetCode Problem #1054\\nTitle: D...   861   \n",
       "19  Example 21: \\nLeetCode Problem #1145\\nTitle: B...   901   \n",
       "20  Example 21: \\nLeetCode Problem #1222\\nTitle: Q...   941   \n",
       "21  Example 21: \\nLeetCode Problem #1290\\nTitle: C...   981   \n",
       "22  Example 21: \\nLeetCode Problem #1337\\nTitle: T...  1021   \n",
       "23  Example 21: \\nLeetCode Problem #1383\\nTitle: M...  1061   \n",
       "24  Example 21: \\nLeetCode Problem #1434\\nTitle: N...  1101   \n",
       "25  Example 21: \\nLeetCode Problem #1483\\nTitle: K...  1141   \n",
       "26  Example 21: \\nLeetCode Problem #1537\\nTitle: G...  1181   \n",
       "27  Example 21: \\nLeetCode Problem #1643\\nTitle: K...  1261   \n",
       "28  Example 21: \\nLeetCode Problem #1697\\nTitle: C...  1301   \n",
       "29  Example 21: \\nLeetCode Problem #1751\\nTitle: M...  1341   \n",
       "30  Example 21: \\nLeetCode Problem #1803\\nTitle: C...  1381   \n",
       "31  Example 21: \\nLeetCode Problem #1857\\nTitle: L...  1421   \n",
       "32  Example 21: \\nLeetCode Problem #1910\\nTitle: R...  1461   \n",
       "33  Example 21: \\nLeetCode Problem #1962\\nTitle: R...  1501   \n",
       "34  Example 21: \\nLeetCode Problem #2016\\nTitle: M...  1541   \n",
       "35  Example 21: \\nLeetCode Problem #2068\\nTitle: C...  1581   \n",
       "36  Example 21: \\nLeetCode Problem #2119\\nTitle: A...  1621   \n",
       "37  Example 21: \\nLeetCode Problem #2169\\nTitle: C...  1661   \n",
       "38  Example 21: \\nLeetCode Problem #2220\\nTitle: M...  1701   \n",
       "39  Example 21: \\nLeetCode Problem #2271\\nTitle: M...  1741   \n",
       "40  Example 21: \\nLeetCode Problem #2321\\nTitle: M...  1781   \n",
       "41  Example 21: \\nLeetCode Problem #2375\\nTitle: C...  1821   \n",
       "42  Example 21: \\nLeetCode Problem #2425\\nTitle: B...  1861   \n",
       "43  Example 21: \\nLeetCode Problem #2471\\nTitle: M...  1901   \n",
       "44  Example 21: \\nLeetCode Problem #2522\\nTitle: P...  1941   \n",
       "45  Example 21: \\nLeetCode Problem #2568\\nTitle: M...  1981   \n",
       "46  Example 21: \\nLeetCode Problem #2611\\nTitle: M...  2021   \n",
       "47  Example 21: \\nLeetCode Problem #2698\\nTitle: F...  2061   \n",
       "48  Example 21: \\nLeetCode Problem #2767\\nTitle: P...  2101   \n",
       "\n",
       "    frontend_question_id_gpt3p5  n_pass_gpt3p5  \\\n",
       "0                          42.0              1   \n",
       "1                          82.0              1   \n",
       "2                         122.0              1   \n",
       "3                         168.0              1   \n",
       "4                         226.0              1   \n",
       "5                         303.0              1   \n",
       "6                         365.0              1   \n",
       "7                         410.0              1   \n",
       "8                         459.0              1   \n",
       "9                         563.0              1   \n",
       "10                        645.0              1   \n",
       "11                        692.0              1   \n",
       "12                        741.0              1   \n",
       "13                        791.0              1   \n",
       "14                        832.0              1   \n",
       "15                        912.0              1   \n",
       "16                        952.0              1   \n",
       "17                       1032.0              1   \n",
       "18                       1105.0              1   \n",
       "19                       1186.0              1   \n",
       "20                       1260.0              1   \n",
       "21                       1313.0              1   \n",
       "22                       1360.0              1   \n",
       "23                       1406.0              1   \n",
       "24                       1458.0              1   \n",
       "25                       1510.0              1   \n",
       "26                       1563.0              1   \n",
       "27                       1671.0              1   \n",
       "28                       1723.0              1   \n",
       "29                       1776.0              1   \n",
       "30                       1830.0              1   \n",
       "31                       1883.0              1   \n",
       "32                       1936.0              1   \n",
       "33                       1991.0              1   \n",
       "34                       2042.0              1   \n",
       "35                       2094.0              1   \n",
       "36                       2144.0              1   \n",
       "37                       2194.0              1   \n",
       "38                       2245.0              1   \n",
       "39                       2295.0              1   \n",
       "40                       2349.0              1   \n",
       "41                       2401.0              1   \n",
       "42                       2448.0              1   \n",
       "43                       2498.0              1   \n",
       "44                       2546.0              1   \n",
       "45                       2588.0              1   \n",
       "46                       2658.0              1   \n",
       "47                       2735.0              1   \n",
       "48                       2800.0              1   \n",
       "\n",
       "                                      response_gpt3p5  \\\n",
       "0   Example 21: \\nLeetCode Problem #22\\nTitle: Gen...   \n",
       "1   Example 21: \\nLeetCode Problem #62\\nTitle: Uni...   \n",
       "2   Example 21: \\nLeetCode Problem #102\\nTitle: Bi...   \n",
       "3   Example 21: \\nLeetCode Problem #142\\nTitle: Li...   \n",
       "4   Example 21: \\nLeetCode Problem #206\\nTitle: Re...   \n",
       "5   Example 21: \\nLeetCode Problem #261\\nTitle: Gr...   \n",
       "6   Example 21: \\nLeetCode Problem #331\\nTitle: Ve...   \n",
       "7   Example 21: \\nLeetCode Problem #389\\nTitle: Fi...   \n",
       "8   Example 21: \\nLeetCode Problem #437\\nTitle: Pa...   \n",
       "9   Example 21: \\nLeetCode Problem #533\\nTitle: Lo...   \n",
       "10  Example 21: \\nLeetCode Problem #601\\nTitle: Hu...   \n",
       "11  Example 21: \\nLeetCode Problem #670\\nTitle: Ma...   \n",
       "12  Example 21: \\nLeetCode Problem #716\\nTitle: Ma...   \n",
       "13  Example 21: \\nLeetCode Problem #768\\nTitle: Ma...   \n",
       "14  Example 21: \\nLeetCode Problem #812\\nTitle: La...   \n",
       "15  Example 21:\\nLeetCode Problem #892\\nTitle: Sur...   \n",
       "16  Example 21: \\nLeetCode Problem #932\\nTitle: Be...   \n",
       "17  Example 21: \\nLeetCode Problem #1012\\nTitle: N...   \n",
       "18  Example 21:\\nLeetCode Problem #1054\\nTitle: Di...   \n",
       "19  Example 21: \\nLeetCode Problem #1145\\nTitle: B...   \n",
       "20  Example 21: \\nLeetCode Problem #1222\\nTitle: Q...   \n",
       "21  Example 21: \\nLeetCode Problem #1290\\nTitle: C...   \n",
       "22  Example 21: \\nLeetCode Problem #1336\\nTitle: N...   \n",
       "23  Example 21: \\nLeetCode Problem #1383\\nTitle: M...   \n",
       "24  Example 21: \\nLeetCode Problem #1434\\nTitle: N...   \n",
       "25  Example 21:\\nLeetCode Problem #1483\\nTitle: Kt...   \n",
       "26  Example 21: \\nLeetCode Problem #1537\\nTitle: G...   \n",
       "27  Example 21: \\nLeetCode Problem #1643\\nTitle: K...   \n",
       "28  Example 21: \\nLeetCode Problem #1700\\nTitle: N...   \n",
       "29  Example 21: \\nLeetCode Problem #1751\\nTitle: M...   \n",
       "30  Example 21: \\nLeetCode Problem #1803\\nTitle: C...   \n",
       "31  Example 21: \\nLeetCode Problem #1857\\nTitle: L...   \n",
       "32  Example 21: \\nLeetCode Problem #1910\\nTitle: R...   \n",
       "33  Example 21: \\nLeetCode Problem #1963\\nTitle: M...   \n",
       "34  Example 21: \\nLeetCode Problem #2015\\nTitle: L...   \n",
       "35  Example 21: \\nLeetCode Problem #2066\\nTitle: M...   \n",
       "36  Example 21: \\nLeetCode Problem #2118\\nTitle: I...   \n",
       "37  Example 21: \\nLeetCode Problem #2168\\nTitle: L...   \n",
       "38  Example 21: \\nLeetCode Problem #2219\\nTitle: C...   \n",
       "39  Example 21: \\nLeetCode Problem #2271\\nTitle: F...   \n",
       "40  Example 21: \\nLeetCode Problem #2321\\nTitle: M...   \n",
       "41  Example 21: \\nLeetCode Problem #2375\\nTitle: S...   \n",
       "42  Example 21: \\nLeetCode Problem #2425\\nTitle: M...   \n",
       "43  Example 21: \\nLeetCode Problem #2471\\nTitle: S...   \n",
       "44  Example 21: \\nLeetCode Problem #2522\\nTitle: L...   \n",
       "45  Example 21: \\nLeetCode Problem #2568\\nTitle: M...   \n",
       "46  Example 21: \\nLeetCode Problem #2611\\nTitle: F...   \n",
       "47  Example 21: \\nLeetCode Problem #2698\\nTitle: L...   \n",
       "48  Example 21: \\nLeetCode Problem #2767\\nTitle: C...   \n",
       "\n",
       "                              cleaned_response_gpt3p5  gpt3p5-turbo-0613  \\\n",
       "0    \\nGenerate Parentheses\\n\\nGiven n pairs of pa...           0.975400   \n",
       "1    \\nUnique Paths\\n\\nA robot is located at the t...           0.966447   \n",
       "2    \\nBinary Tree Level Order Traversal\\n\\nGiven ...           0.975543   \n",
       "3    \\nLinked List Cycle II\\n\\nGiven a linked list...           0.972935   \n",
       "4    \\nReverse Linked List\\n\\nReverse a singly lin...           0.943216   \n",
       "5    \\nGraph Valid Tree\\n\\nGiven n nodes labeled f...           0.929275   \n",
       "6    \\nVerify Preorder Serialization of a Binary T...           0.953775   \n",
       "7    \\nFind the Difference\\n\\nGiven two strings s ...           0.914224   \n",
       "8    \\nPath Sum III\\n\\nGiven the root of a binary ...           0.981365   \n",
       "9    \\nLonely Pixel II\\n\\nGiven an m x n picture c...           0.941912   \n",
       "10   \\nHuman Traffic of Stadium\\n\\nThere are a tot...           0.935078   \n",
       "11   \\nMaximum Swap\\n\\nYou are given an integer nu...           0.958825   \n",
       "12   \\nMax Stack\\n\\nDesign a max stack that suppor...           0.974316   \n",
       "13   \\nMax Chunks To Make Sorted II\\n\\nGiven an ar...           0.942406   \n",
       "14   \\nLargest Triangle Area\\n\\nYou have a list of...           0.942623   \n",
       "15  \\nSurface Area of 3D Shapes\\n\\nOn a N * N grid...           0.939961   \n",
       "16   \\nBeautiful Array\\n\\nFor some fixed n, an arr...           0.956026   \n",
       "17   \\nNumbers With Repeated Digits\\n\\nGiven a pos...           0.975161   \n",
       "18  \\nDistant Barcodes\\n\\nIn a warehouse, there is...           0.924632   \n",
       "19   \\nBinary Tree Coloring Game\\n\\nTwo players pl...           0.953458   \n",
       "20   \\nQueens That Can Attack the King\\n\\nOn an 8x...           0.949100   \n",
       "21   \\nConvert Binary Number in a Linked List to I...           0.932571   \n",
       "22   \\nNumber of Transactions for Each Person\\n\\nY...           0.972872   \n",
       "23   \\nMaximum Performance of a Team\\n\\nThere are ...           0.941467   \n",
       "24   \\nNumber of Ways to Wear Different Hats to Ea...           0.938095   \n",
       "25  \\nKth Ancestor of a Tree Node\\n\\nYou are given...           0.962724   \n",
       "26   \\nGet the Maximum Score\\n\\n \\nGuess the Major...           0.895674   \n",
       "27   \\nKth Smallest Instructions\\n\\nYou are given ...           0.935454   \n",
       "28   \\nNumber of Students Unable to Eat Lunch\\n\\nT...           0.856831   \n",
       "29   \\nMaximum Number of Events That Can Be Attend...           0.971547   \n",
       "30   \\nCount Pairs With XOR in a Range\\n\\nGiven a ...           0.965861   \n",
       "31   \\nLargest Color Value in a Directed Graph\\n\\n...           0.963065   \n",
       "32   \\nRemove All Occurrences of a Substring\\n\\nGi...           0.975333   \n",
       "33   \\nMinimum Number of Swaps to Make the Binary ...           0.864474   \n",
       "34   \\nLongest More Frequent Subtree Sum\\n\\nGiven ...           0.782973   \n",
       "35   \\nMinimum Steps to Make Two Strings Anagram\\n...           0.786732   \n",
       "36   \\nIdentifying Redundant Connections in a Netw...           0.805890   \n",
       "37   \\nLargest Subarray with Equal Number of Even ...           0.823007   \n",
       "38   \\nCount Triangles in a Grid\\n\\nYou are given ...           0.811878   \n",
       "39   \\nFind Missing Element in Array\\n\\nGiven an a...           0.823181   \n",
       "40   \\nMaximum Points in a Plane\\n\\nYou are given ...           0.836340   \n",
       "41   \\nSecond Largest Element in an Array\\n\\nYou a...           0.795532   \n",
       "42   \\nMaximum Score of Removing Duplicates\\n\\nYou...           0.818819   \n",
       "43   \\nSum of Absolute Differences in a Sorted Arr...           0.823110   \n",
       "44   \\nLongest Subsequence with Odd Sum\\n\\nYou are...           0.841413   \n",
       "45   \\nMaximum Sum of 3 Non-Overlapping Subarrays\\...           0.870436   \n",
       "46   \\nFind the Maximum XOR of Two Numbers in an A...           0.832208   \n",
       "47   \\nLongest Equal Substring\\n\\nGiven a string s...           0.784192   \n",
       "48   \\nCount Maximum Substrings\\n\\nYou are given a...           0.866054   \n",
       "\n",
       "                                   input_context_gpt4  \\\n",
       "0   Example 1: \\nLeetCode Problem #2\\nTitle: Add T...   \n",
       "1   Example 1: \\nLeetCode Problem #42\\nTitle: Trap...   \n",
       "2   Example 1: \\nLeetCode Problem #82\\nTitle: Remo...   \n",
       "3   Example 1: \\nLeetCode Problem #122\\nTitle: Bes...   \n",
       "4   Example 1: \\nLeetCode Problem #168\\nTitle: Exc...   \n",
       "5   Example 1: \\nLeetCode Problem #226\\nTitle: Inv...   \n",
       "6   Example 1: \\nLeetCode Problem #303\\nTitle: Ran...   \n",
       "7   Example 1: \\nLeetCode Problem #365\\nTitle: Wat...   \n",
       "8   Example 1: \\nLeetCode Problem #410\\nTitle: Spl...   \n",
       "9   Example 1: \\nLeetCode Problem #508\\nTitle: Mos...   \n",
       "10  Example 1: \\nLeetCode Problem #563\\nTitle: Bin...   \n",
       "11  Example 1: \\nLeetCode Problem #645\\nTitle: Set...   \n",
       "12  Example 1: \\nLeetCode Problem #692\\nTitle: Top...   \n",
       "13  Example 1: \\nLeetCode Problem #741\\nTitle: Che...   \n",
       "14  Example 1: \\nLeetCode Problem #791\\nTitle: Cus...   \n",
       "15  Example 1: \\nLeetCode Problem #872\\nTitle: Lea...   \n",
       "16  Example 1: \\nLeetCode Problem #912\\nTitle: Sor...   \n",
       "17  Example 1: \\nLeetCode Problem #992\\nTitle: Sub...   \n",
       "18  Example 1: \\nLeetCode Problem #1032\\nTitle: St...   \n",
       "19  Example 1: \\nLeetCode Problem #1105\\nTitle: Fi...   \n",
       "20  Example 1: \\nLeetCode Problem #1186\\nTitle: Ma...   \n",
       "21  Example 1: \\nLeetCode Problem #1260\\nTitle: Sh...   \n",
       "22  Example 1: \\nLeetCode Problem #1313\\nTitle: De...   \n",
       "23  Example 1: \\nLeetCode Problem #1360\\nTitle: Nu...   \n",
       "24  Example 1: \\nLeetCode Problem #1406\\nTitle: St...   \n",
       "25  Example 1: \\nLeetCode Problem #1458\\nTitle: Ma...   \n",
       "26  Example 1: \\nLeetCode Problem #1510\\nTitle: St...   \n",
       "27  Example 1: \\nLeetCode Problem #1617\\nTitle: Co...   \n",
       "28  Example 1: \\nLeetCode Problem #1671\\nTitle: Mi...   \n",
       "29  Example 1: \\nLeetCode Problem #1723\\nTitle: Fi...   \n",
       "30  Example 1: \\nLeetCode Problem #1776\\nTitle: Ca...   \n",
       "31  Example 1: \\nLeetCode Problem #1830\\nTitle: Mi...   \n",
       "32  Example 1: \\nLeetCode Problem #1883\\nTitle: Mi...   \n",
       "33  Example 1: \\nLeetCode Problem #1936\\nTitle: Ad...   \n",
       "34  Example 1: \\nLeetCode Problem #1991\\nTitle: Fi...   \n",
       "35  Example 1: \\nLeetCode Problem #2042\\nTitle: Ch...   \n",
       "36  Example 1: \\nLeetCode Problem #2094\\nTitle: Fi...   \n",
       "37  Example 1: \\nLeetCode Problem #2144\\nTitle: Mi...   \n",
       "38  Example 1: \\nLeetCode Problem #2194\\nTitle: Ce...   \n",
       "39  Example 1: \\nLeetCode Problem #2245\\nTitle: Ma...   \n",
       "40  Example 1: \\nLeetCode Problem #2295\\nTitle: Re...   \n",
       "41  Example 1: \\nLeetCode Problem #2349\\nTitle: De...   \n",
       "42  Example 1: \\nLeetCode Problem #2401\\nTitle: Lo...   \n",
       "43  Example 1: \\nLeetCode Problem #2448\\nTitle: Mi...   \n",
       "44  Example 1: \\nLeetCode Problem #2498\\nTitle: Fr...   \n",
       "45  Example 1: \\nLeetCode Problem #2546\\nTitle: Ap...   \n",
       "46  Example 1: \\nLeetCode Problem #2588\\nTitle: Co...   \n",
       "47  Example 1: \\nLeetCode Problem #2658\\nTitle: Ma...   \n",
       "48  Example 1: \\nLeetCode Problem #2735\\nTitle: Co...   \n",
       "\n",
       "                               expected_response_gpt4  \\\n",
       "0   Example 21: \\nLeetCode Problem #22\\nTitle: Gen...   \n",
       "1   Example 21: \\nLeetCode Problem #62\\nTitle: Uni...   \n",
       "2   Example 21: \\nLeetCode Problem #102\\nTitle: Bi...   \n",
       "3   Example 21: \\nLeetCode Problem #142\\nTitle: Li...   \n",
       "4   Example 21: \\nLeetCode Problem #206\\nTitle: Re...   \n",
       "5   Example 21: \\nLeetCode Problem #263\\nTitle: Ug...   \n",
       "6   Example 21: \\nLeetCode Problem #331\\nTitle: Ve...   \n",
       "7   Example 21: \\nLeetCode Problem #389\\nTitle: Fi...   \n",
       "8   Example 21: \\nLeetCode Problem #437\\nTitle: Pa...   \n",
       "9   Example 21: \\nLeetCode Problem #535\\nTitle: En...   \n",
       "10  Example 21: \\nLeetCode Problem #605\\nTitle: Ca...   \n",
       "11  Example 21: \\nLeetCode Problem #670\\nTitle: Ma...   \n",
       "12  Example 21: \\nLeetCode Problem #717\\nTitle: 1-...   \n",
       "13  Example 21: \\nLeetCode Problem #768\\nTitle: Ma...   \n",
       "14  Example 21: \\nLeetCode Problem #812\\nTitle: La...   \n",
       "15  Example 21: \\nLeetCode Problem #892\\nTitle: Su...   \n",
       "16  Example 21: \\nLeetCode Problem #932\\nTitle: Be...   \n",
       "17  Example 21: \\nLeetCode Problem #1012\\nTitle: N...   \n",
       "18  Example 21: \\nLeetCode Problem #1054\\nTitle: D...   \n",
       "19  Example 21: \\nLeetCode Problem #1145\\nTitle: B...   \n",
       "20  Example 21: \\nLeetCode Problem #1222\\nTitle: Q...   \n",
       "21  Example 21: \\nLeetCode Problem #1290\\nTitle: C...   \n",
       "22  Example 21: \\nLeetCode Problem #1337\\nTitle: T...   \n",
       "23  Example 21: \\nLeetCode Problem #1383\\nTitle: M...   \n",
       "24  Example 21: \\nLeetCode Problem #1434\\nTitle: N...   \n",
       "25  Example 21: \\nLeetCode Problem #1483\\nTitle: K...   \n",
       "26  Example 21: \\nLeetCode Problem #1537\\nTitle: G...   \n",
       "27  Example 21: \\nLeetCode Problem #1643\\nTitle: K...   \n",
       "28  Example 21: \\nLeetCode Problem #1697\\nTitle: C...   \n",
       "29  Example 21: \\nLeetCode Problem #1751\\nTitle: M...   \n",
       "30  Example 21: \\nLeetCode Problem #1803\\nTitle: C...   \n",
       "31  Example 21: \\nLeetCode Problem #1857\\nTitle: L...   \n",
       "32  Example 21: \\nLeetCode Problem #1910\\nTitle: R...   \n",
       "33  Example 21: \\nLeetCode Problem #1962\\nTitle: R...   \n",
       "34  Example 21: \\nLeetCode Problem #2016\\nTitle: M...   \n",
       "35  Example 21: \\nLeetCode Problem #2068\\nTitle: C...   \n",
       "36  Example 21: \\nLeetCode Problem #2119\\nTitle: A...   \n",
       "37  Example 21: \\nLeetCode Problem #2169\\nTitle: C...   \n",
       "38  Example 21: \\nLeetCode Problem #2220\\nTitle: M...   \n",
       "39  Example 21: \\nLeetCode Problem #2271\\nTitle: M...   \n",
       "40  Example 21: \\nLeetCode Problem #2321\\nTitle: M...   \n",
       "41  Example 21: \\nLeetCode Problem #2375\\nTitle: C...   \n",
       "42  Example 21: \\nLeetCode Problem #2425\\nTitle: B...   \n",
       "43  Example 21: \\nLeetCode Problem #2471\\nTitle: M...   \n",
       "44  Example 21: \\nLeetCode Problem #2522\\nTitle: P...   \n",
       "45  Example 21: \\nLeetCode Problem #2568\\nTitle: M...   \n",
       "46  Example 21: \\nLeetCode Problem #2611\\nTitle: M...   \n",
       "47  Example 21: \\nLeetCode Problem #2698\\nTitle: F...   \n",
       "48  Example 21: \\nLeetCode Problem #2767\\nTitle: P...   \n",
       "\n",
       "    frontend_question_id_gpt4  n_pass_gpt4  \\\n",
       "0                        42.0            1   \n",
       "1                        82.0            1   \n",
       "2                       122.0            1   \n",
       "3                       168.0            1   \n",
       "4                       226.0            1   \n",
       "5                       303.0            1   \n",
       "6                       365.0            1   \n",
       "7                       410.0            1   \n",
       "8                       459.0            1   \n",
       "9                       563.0            1   \n",
       "10                      645.0            1   \n",
       "11                      692.0            1   \n",
       "12                      741.0            1   \n",
       "13                      791.0            1   \n",
       "14                      832.0            1   \n",
       "15                      912.0            1   \n",
       "16                      952.0            1   \n",
       "17                     1032.0            1   \n",
       "18                     1105.0            1   \n",
       "19                     1186.0            1   \n",
       "20                     1260.0            1   \n",
       "21                     1313.0            1   \n",
       "22                     1360.0            1   \n",
       "23                     1406.0            1   \n",
       "24                     1458.0            1   \n",
       "25                     1510.0            1   \n",
       "26                     1563.0            1   \n",
       "27                     1671.0            1   \n",
       "28                     1723.0            1   \n",
       "29                     1776.0            1   \n",
       "30                     1830.0            1   \n",
       "31                     1883.0            1   \n",
       "32                     1936.0            1   \n",
       "33                     1991.0            1   \n",
       "34                     2042.0            1   \n",
       "35                     2094.0            1   \n",
       "36                     2144.0            1   \n",
       "37                     2194.0            1   \n",
       "38                     2245.0            1   \n",
       "39                     2295.0            1   \n",
       "40                     2349.0            1   \n",
       "41                     2401.0            1   \n",
       "42                     2448.0            1   \n",
       "43                     2498.0            1   \n",
       "44                     2546.0            1   \n",
       "45                     2588.0            1   \n",
       "46                     2658.0            1   \n",
       "47                     2735.0            1   \n",
       "48                     2800.0            1   \n",
       "\n",
       "                                        response_gpt4  \\\n",
       "0   Example 21: \\nLeetCode Problem #22\\nTitle: Gen...   \n",
       "1   Example 21: \\nLeetCode Problem #62\\nTitle: Uni...   \n",
       "2   Example 21: \\nLeetCode Problem #102\\nTitle: Bi...   \n",
       "3   Example 21: \\nLeetCode Problem #142\\nTitle: Li...   \n",
       "4   Example 21: \\nLeetCode Problem #206\\nTitle: Re...   \n",
       "5   Example 21: \\nLeetCode Problem #261\\nTitle: Gr...   \n",
       "6   Example 21: \\nLeetCode Problem #331\\nTitle: Ve...   \n",
       "7   Example 21: \\nLeetCode Problem #389\\nTitle: Fi...   \n",
       "8   Example 21: \\nLeetCode Problem #437\\nTitle: Pa...   \n",
       "9   Example 21: \\nLeetCode Problem #533\\nTitle: Lo...   \n",
       "10  Example 21: \\nLeetCode Problem #601\\nTitle: Hu...   \n",
       "11  Example 21: \\nLeetCode Problem #670\\nTitle: Ma...   \n",
       "12  Example 21: \\nLeetCode Problem #716\\nTitle: Ma...   \n",
       "13  Example 21: \\nLeetCode Problem #768\\nTitle: Ma...   \n",
       "14  Example 21: \\nLeetCode Problem #812\\nTitle: La...   \n",
       "15  Example 21: \\nLeetCode Problem #892\\nTitle: Su...   \n",
       "16  Example 21: \\nLeetCode Problem #932\\nTitle: Be...   \n",
       "17  Example 21: \\nLeetCode Problem #1012\\nTitle: N...   \n",
       "18  Example 21: \\nLeetCode Problem #1054\\nTitle: D...   \n",
       "19  Example 21: \\nLeetCode Problem #1145\\nTitle: B...   \n",
       "20  Example 21: \\nLeetCode Problem #1222\\nTitle: Q...   \n",
       "21  Example 21: \\nLeetCode Problem #1290\\nTitle: C...   \n",
       "22  Example 21: \\nLeetCode Problem #1336\\nTitle: N...   \n",
       "23  Example 21: \\nLeetCode Problem #1383\\nTitle: M...   \n",
       "24  Example 21: \\nLeetCode Problem #1434\\nTitle: N...   \n",
       "25  Example 21: \\nLeetCode Problem #1483\\nTitle: K...   \n",
       "26  Example 21: \\nLeetCode Problem #1537\\nTitle: G...   \n",
       "27  Example 21: \\nLeetCode Problem #1643\\nTitle: K...   \n",
       "28  Example 21: \\nLeetCode Problem #1697\\nTitle: C...   \n",
       "29  Example 21: \\nLeetCode Problem #1751\\nTitle: M...   \n",
       "30  Example 21: \\nLeetCode Problem #1803\\nTitle: C...   \n",
       "31  Example 21: \\nLeetCode Problem #1857\\nTitle: L...   \n",
       "32  Example 21: \\nLeetCode Problem #1910\\nTitle: R...   \n",
       "33  Example 21: \\nLeetCode Problem #1962\\nTitle: R...   \n",
       "34  Example 21: \\nLeetCode Problem #2015\\nTitle: M...   \n",
       "35  Example 21: \\nLeetCode Problem #2066\\nTitle: N...   \n",
       "36  Example 21: \\nLeetCode Problem #2118\\nTitle: M...   \n",
       "37  Example 21: \\nLeetCode Problem #2168\\nTitle: M...   \n",
       "38  Example 21: \\nLeetCode Problem #2219\\nTitle: M...   \n",
       "39  Example 21: \\nLeetCode Problem #2271\\nTitle: F...   \n",
       "40  Example 21: \\nLeetCode Problem #2321\\nTitle: M...   \n",
       "41  Example 21: \\nLeetCode Problem #2375\\nTitle: S...   \n",
       "42  Example 21: \\nLeetCode Problem #2425\\nTitle: R...   \n",
       "43  Example 21: \\nLeetCode Problem #2471\\nTitle: M...   \n",
       "44  Example 21: \\nLeetCode Problem #2522\\nTitle: M...   \n",
       "45  Example 21: \\nLeetCode Problem #2568\\nTitle: M...   \n",
       "46  Example 21: \\nLeetCode Problem #2611\\nTitle: C...   \n",
       "47  Example 21: \\nLeetCode Problem #2698\\nTitle: M...   \n",
       "48  Example 21: \\nLeetCode Problem #2767\\nTitle: M...   \n",
       "\n",
       "                                cleaned_response_gpt4  gpt4-0613  \n",
       "0    \\nGenerate Parentheses\\n\\nGiven n pairs of pa...   0.968457  \n",
       "1    \\nUnique Paths\\n\\nA robot is located at the t...   0.966928  \n",
       "2    \\nBinary Tree Level Order Traversal\\n\\nGiven ...   0.979993  \n",
       "3    \\nLinked List Cycle II\\n\\nGiven a linked list...   0.971993  \n",
       "4    \\nReverse Linked List\\n\\nGiven the head of a ...   0.967305  \n",
       "5    \\nGraph Valid Tree\\n\\nGiven n nodes labeled f...   0.910235  \n",
       "6    \\nVerify Preorder Serialization of a Binary T...   0.965454  \n",
       "7    \\nFind the Difference\\n\\nGiven two strings s ...   0.938517  \n",
       "8    \\nPath Sum III\\n\\nYou are given a binary tree...   0.919942  \n",
       "9    \\nLonely Pixel II\\n\\nGiven a picture consisti...   0.968484  \n",
       "10   \\nHuman Traffic of Stadium\\n\\nX city built a ...   0.945834  \n",
       "11   \\nMaximum Swap\\n\\nGiven a non-empty string of...   0.941444  \n",
       "12   \\nMax Stack\\n\\nDesign a max stack that suppor...   0.932823  \n",
       "13   \\nMax Chunks To Make Sorted II\\n\\nGiven an ar...   0.947043  \n",
       "14   \\nLargest Triangle Area\\n\\nYou are given an a...   0.957235  \n",
       "15   \\nSurface Area of 3D Shapes\\n\\nYou are given ...   0.961712  \n",
       "16   \\nBeautiful Array\\n\\nFor some fixed value of ...   0.952699  \n",
       "17   \\nNumbers With Repeated Digits\\n\\nGiven a pos...   0.974782  \n",
       "18   \\nDistant Barcodes\\n\\nIn a warehouse, there i...   0.951044  \n",
       "19   \\nBinary Tree Coloring Game\\n\\nTwo players pl...   0.963340  \n",
       "20   \\nQueens That Can Attack the King\\n\\nOn an 8x...   0.940451  \n",
       "21   \\nConvert Binary Number in a Linked List to I...   0.959612  \n",
       "22   \\nNumber of Steps to Reduce a Number in Binar...   0.951928  \n",
       "23   \\nMaximum Performance of a Team\\n\\nThere are ...   0.959704  \n",
       "24   \\nNumber of Ways to Wear Different Hats to Ea...   0.979014  \n",
       "25   \\nKth Ancestor of a Tree Node\\n\\nYou are give...   0.969083  \n",
       "26   \\nGet the Maximum Score\\n\\nYou are given two ...   0.981642  \n",
       "27   \\nKth Smallest Instructions\\n\\nBob is standin...   0.980127  \n",
       "28   \\nChecking Existence of Edge Length Limited P...   0.897096  \n",
       "29   \\nMaximum Students Taking Exam\\n\\nGiven a m *...   0.887120  \n",
       "30   \\nCount of Pairs with XOR Sum Equal to Zero\\n...   0.947628  \n",
       "31   \\nLargest Color Value in a Directed Graph\\n\\n...   0.972613  \n",
       "32   \\nRemove All Occurrences of a Substring\\n\\nGi...   0.983008  \n",
       "33   \\nRemove Stones to Minimize the Total\\n\\nYou ...   0.982566  \n",
       "34   \\nMaximum Number of Ways to Partition an Arra...   0.893482  \n",
       "35   \\nNumber of Islands in a Graph\\n\\nThere is an...   0.782898  \n",
       "36   \\nMerge Two Sorted Linked Lists\\n\\nYou are gi...   0.774505  \n",
       "37   \\nMinimum Steps to Acquire All Elements of th...   0.858844  \n",
       "38   \\nMaximize the Number of Squares in Grid\\n\\nY...   0.825604  \n",
       "39   \\nFinding Pair in a Binary Tree\\n\\nGiven the ...   0.765736  \n",
       "40   \\nMaximum Number of Games Played\\n\\nYou are g...   0.844239  \n",
       "41   \\nSum of Differences Between Neighboring Node...   0.791942  \n",
       "42   \\nReplace All Adjacent Duplicates in String\\n...   0.782253  \n",
       "43   \\nMaximum Area of Overlapping Rectangles\\n\\nG...   0.816263  \n",
       "44   \\nMaximum Sum of Array After K Negations\\n\\nG...   0.846009  \n",
       "45   \\nMaximum Groups of Consecutive Integers\\n\\nY...   0.892147  \n",
       "46   \\nCalculate Minimum Operations to Equal Two A...   0.862262  \n",
       "47   \\nMinimum Operations for Target Array\\n\\nYou ...   0.789200  \n",
       "48   \\nMaximum Subarray Length\\n\\nYou are given a ...   0.838008  "
      ]
     },
     "execution_count": 6,
     "metadata": {},
     "output_type": "execute_result"
    }
   ],
   "source": [
    "import os\n",
    "import json\n",
    "import pandas as pd\n",
    "\n",
    "def load_df(in_jsonl_path):\n",
    "    with open(in_jsonl_path, \"r\") as json_file:\n",
    "        json_list = list(json_file)\n",
    "\n",
    "    jsonl_loaded = []\n",
    "    for json_str in json_list:\n",
    "        result = json.loads(json_str)\n",
    "        jsonl_loaded.append(result)\n",
    "    return pd.DataFrame(jsonl_loaded)\n",
    "\n",
    "\n",
    "fname_gpt3p5_0613 = \"leetcode_similarity__step_size_eq_20__num_input_examples_eq_20__num_output_examples_eq_20__model_eq_gpt_3.5_turbo_0613__temperature_eq_0.7__n_pass_1.jsonl\"\n",
    "gpt3p5_0613_df = load_df(os.path.join(\"..\", \"results\", fname_gpt3p5_0613))\n",
    "\n",
    "fname_gpt4_0613 = \"leetcode_similarity_step_size_eq_20__num_input_examples_eq_20__num_output_examples_eq_20__model_eq_gpt_4_0613__temperature_eq_0.7__n_pass_1.jsonl\"#leetcode__num_input_eq_20__num_output_eq_20__step_size_eq_40__model_eq_gpt-4-0613__temperature_eq_0.7__n_pass_1__mode_similarity.jsonl\"\n",
    "gpt4_0613_df = load_df(os.path.join(\"..\", \"results\", fname_gpt4_0613))\n",
    "\n",
    "# Merge on 'iloc' column using an inner join\n",
    "merged_df = pd.merge(gpt3p5_0613_df, gpt4_0613_df, on='iloc', suffixes=('_gpt3p5', '_gpt4'))\n",
    "\n",
    "# Rename the columns to your desired names\n",
    "merged_df.rename(columns={'similarity_gpt3p5': 'gpt3p5-turbo-0613', 'similarity_gpt4': 'gpt4-0613'}, inplace=True)\n",
    "\n",
    "merged_df"
   ]
  },
  {
   "cell_type": "code",
   "execution_count": 7,
   "id": "4f1bc24a",
   "metadata": {},
   "outputs": [
    {
     "data": {
      "application/vnd.plotly.v1+json": {
       "config": {
        "plotlyServerURL": "https://plot.ly"
       },
       "data": [
        {
         "mode": "lines",
         "name": "gpt-3p5-turbo-0613",
         "type": "scatter",
         "x": [
          42,
          82,
          122,
          168,
          226,
          303,
          365,
          410,
          459,
          563,
          645,
          692,
          741,
          791,
          832,
          912,
          952,
          1032,
          1105,
          1186,
          1260,
          1313,
          1360,
          1406,
          1458,
          1510,
          1563,
          1671,
          1723,
          1776,
          1830,
          1883,
          1936,
          1991,
          2042,
          2094,
          2144,
          2194,
          2245,
          2295,
          2349,
          2401,
          2448,
          2498,
          2546,
          2588,
          2658,
          2735,
          2800
         ],
         "y": [
          0.9754002444436825,
          0.9664473546626162,
          0.9755429005253795,
          0.9729345367832809,
          0.9432160845019796,
          0.9292747664273382,
          0.9537750190848504,
          0.9142242248711469,
          0.9813647333221153,
          0.9419116038993504,
          0.9350777909093686,
          0.958825289858467,
          0.9743157803584473,
          0.9424064370239249,
          0.9426225200003597,
          0.9399609676213755,
          0.956026457199292,
          0.9751613128295286,
          0.9246315157316294,
          0.9534584405227642,
          0.9490996768492497,
          0.932570658461948,
          0.9728718521550168,
          0.9414666254696659,
          0.9380954783937823,
          0.9627238945914788,
          0.8956741165966473,
          0.9354544062593276,
          0.8568305430482634,
          0.9715472532582108,
          0.9658614404626772,
          0.9630653871656436,
          0.9753325866105367,
          0.8644743913880503,
          0.7829725994476852,
          0.7867320342171596,
          0.805890300512798,
          0.8230072854737126,
          0.8118778973762638,
          0.8231807728345658,
          0.8363400580985909,
          0.795531752821001,
          0.8188191079889968,
          0.8231098338230222,
          0.8414134920025271,
          0.8704358521574822,
          0.8322082255348888,
          0.7841919368318706,
          0.8660537208616368
         ]
        },
        {
         "mode": "lines",
         "name": "gpt4-0613",
         "type": "scatter",
         "x": [
          42,
          82,
          122,
          168,
          226,
          303,
          365,
          410,
          459,
          563,
          645,
          692,
          741,
          791,
          832,
          912,
          952,
          1032,
          1105,
          1186,
          1260,
          1313,
          1360,
          1406,
          1458,
          1510,
          1563,
          1671,
          1723,
          1776,
          1830,
          1883,
          1936,
          1991,
          2042,
          2094,
          2144,
          2194,
          2245,
          2295,
          2349,
          2401,
          2448,
          2498,
          2546,
          2588,
          2658,
          2735,
          2800
         ],
         "y": [
          0.9684569737632447,
          0.9669275020741651,
          0.9799933681266595,
          0.9719926398123144,
          0.9673047410427913,
          0.9102353344650779,
          0.9654536548590718,
          0.9385174530592673,
          0.9199415905865331,
          0.9684837615198474,
          0.9458336871802702,
          0.9414439413476768,
          0.9328225384519756,
          0.9470429171185373,
          0.9572350254372521,
          0.9617117550860694,
          0.9526986805055376,
          0.9747817452403352,
          0.9510444295422398,
          0.9633402577004647,
          0.9404512119495644,
          0.9596124923720581,
          0.9519281039601863,
          0.9597038449943037,
          0.9790136860209645,
          0.9690825365464311,
          0.9816418368229289,
          0.9801266157742797,
          0.8970961159270768,
          0.8871199230414062,
          0.9476278354086087,
          0.9726125894225693,
          0.9830083847248243,
          0.982566098321881,
          0.8934817343323317,
          0.7828983531172968,
          0.7745052209240406,
          0.8588440824173322,
          0.8256044587733802,
          0.7657358676319684,
          0.8442393780040363,
          0.7919421667985179,
          0.7822528400547761,
          0.8162629191280845,
          0.8460094892789548,
          0.8921471516498521,
          0.8622620284473214,
          0.7891999131842362,
          0.8380082080062858
         ]
        }
       ],
       "layout": {
        "template": {
         "data": {
          "bar": [
           {
            "error_x": {
             "color": "#2a3f5f"
            },
            "error_y": {
             "color": "#2a3f5f"
            },
            "marker": {
             "line": {
              "color": "#E5ECF6",
              "width": 0.5
             },
             "pattern": {
              "fillmode": "overlay",
              "size": 10,
              "solidity": 0.2
             }
            },
            "type": "bar"
           }
          ],
          "barpolar": [
           {
            "marker": {
             "line": {
              "color": "#E5ECF6",
              "width": 0.5
             },
             "pattern": {
              "fillmode": "overlay",
              "size": 10,
              "solidity": 0.2
             }
            },
            "type": "barpolar"
           }
          ],
          "carpet": [
           {
            "aaxis": {
             "endlinecolor": "#2a3f5f",
             "gridcolor": "white",
             "linecolor": "white",
             "minorgridcolor": "white",
             "startlinecolor": "#2a3f5f"
            },
            "baxis": {
             "endlinecolor": "#2a3f5f",
             "gridcolor": "white",
             "linecolor": "white",
             "minorgridcolor": "white",
             "startlinecolor": "#2a3f5f"
            },
            "type": "carpet"
           }
          ],
          "choropleth": [
           {
            "colorbar": {
             "outlinewidth": 0,
             "ticks": ""
            },
            "type": "choropleth"
           }
          ],
          "contour": [
           {
            "colorbar": {
             "outlinewidth": 0,
             "ticks": ""
            },
            "colorscale": [
             [
              0,
              "#0d0887"
             ],
             [
              0.1111111111111111,
              "#46039f"
             ],
             [
              0.2222222222222222,
              "#7201a8"
             ],
             [
              0.3333333333333333,
              "#9c179e"
             ],
             [
              0.4444444444444444,
              "#bd3786"
             ],
             [
              0.5555555555555556,
              "#d8576b"
             ],
             [
              0.6666666666666666,
              "#ed7953"
             ],
             [
              0.7777777777777778,
              "#fb9f3a"
             ],
             [
              0.8888888888888888,
              "#fdca26"
             ],
             [
              1,
              "#f0f921"
             ]
            ],
            "type": "contour"
           }
          ],
          "contourcarpet": [
           {
            "colorbar": {
             "outlinewidth": 0,
             "ticks": ""
            },
            "type": "contourcarpet"
           }
          ],
          "heatmap": [
           {
            "colorbar": {
             "outlinewidth": 0,
             "ticks": ""
            },
            "colorscale": [
             [
              0,
              "#0d0887"
             ],
             [
              0.1111111111111111,
              "#46039f"
             ],
             [
              0.2222222222222222,
              "#7201a8"
             ],
             [
              0.3333333333333333,
              "#9c179e"
             ],
             [
              0.4444444444444444,
              "#bd3786"
             ],
             [
              0.5555555555555556,
              "#d8576b"
             ],
             [
              0.6666666666666666,
              "#ed7953"
             ],
             [
              0.7777777777777778,
              "#fb9f3a"
             ],
             [
              0.8888888888888888,
              "#fdca26"
             ],
             [
              1,
              "#f0f921"
             ]
            ],
            "type": "heatmap"
           }
          ],
          "heatmapgl": [
           {
            "colorbar": {
             "outlinewidth": 0,
             "ticks": ""
            },
            "colorscale": [
             [
              0,
              "#0d0887"
             ],
             [
              0.1111111111111111,
              "#46039f"
             ],
             [
              0.2222222222222222,
              "#7201a8"
             ],
             [
              0.3333333333333333,
              "#9c179e"
             ],
             [
              0.4444444444444444,
              "#bd3786"
             ],
             [
              0.5555555555555556,
              "#d8576b"
             ],
             [
              0.6666666666666666,
              "#ed7953"
             ],
             [
              0.7777777777777778,
              "#fb9f3a"
             ],
             [
              0.8888888888888888,
              "#fdca26"
             ],
             [
              1,
              "#f0f921"
             ]
            ],
            "type": "heatmapgl"
           }
          ],
          "histogram": [
           {
            "marker": {
             "pattern": {
              "fillmode": "overlay",
              "size": 10,
              "solidity": 0.2
             }
            },
            "type": "histogram"
           }
          ],
          "histogram2d": [
           {
            "colorbar": {
             "outlinewidth": 0,
             "ticks": ""
            },
            "colorscale": [
             [
              0,
              "#0d0887"
             ],
             [
              0.1111111111111111,
              "#46039f"
             ],
             [
              0.2222222222222222,
              "#7201a8"
             ],
             [
              0.3333333333333333,
              "#9c179e"
             ],
             [
              0.4444444444444444,
              "#bd3786"
             ],
             [
              0.5555555555555556,
              "#d8576b"
             ],
             [
              0.6666666666666666,
              "#ed7953"
             ],
             [
              0.7777777777777778,
              "#fb9f3a"
             ],
             [
              0.8888888888888888,
              "#fdca26"
             ],
             [
              1,
              "#f0f921"
             ]
            ],
            "type": "histogram2d"
           }
          ],
          "histogram2dcontour": [
           {
            "colorbar": {
             "outlinewidth": 0,
             "ticks": ""
            },
            "colorscale": [
             [
              0,
              "#0d0887"
             ],
             [
              0.1111111111111111,
              "#46039f"
             ],
             [
              0.2222222222222222,
              "#7201a8"
             ],
             [
              0.3333333333333333,
              "#9c179e"
             ],
             [
              0.4444444444444444,
              "#bd3786"
             ],
             [
              0.5555555555555556,
              "#d8576b"
             ],
             [
              0.6666666666666666,
              "#ed7953"
             ],
             [
              0.7777777777777778,
              "#fb9f3a"
             ],
             [
              0.8888888888888888,
              "#fdca26"
             ],
             [
              1,
              "#f0f921"
             ]
            ],
            "type": "histogram2dcontour"
           }
          ],
          "mesh3d": [
           {
            "colorbar": {
             "outlinewidth": 0,
             "ticks": ""
            },
            "type": "mesh3d"
           }
          ],
          "parcoords": [
           {
            "line": {
             "colorbar": {
              "outlinewidth": 0,
              "ticks": ""
             }
            },
            "type": "parcoords"
           }
          ],
          "pie": [
           {
            "automargin": true,
            "type": "pie"
           }
          ],
          "scatter": [
           {
            "fillpattern": {
             "fillmode": "overlay",
             "size": 10,
             "solidity": 0.2
            },
            "type": "scatter"
           }
          ],
          "scatter3d": [
           {
            "line": {
             "colorbar": {
              "outlinewidth": 0,
              "ticks": ""
             }
            },
            "marker": {
             "colorbar": {
              "outlinewidth": 0,
              "ticks": ""
             }
            },
            "type": "scatter3d"
           }
          ],
          "scattercarpet": [
           {
            "marker": {
             "colorbar": {
              "outlinewidth": 0,
              "ticks": ""
             }
            },
            "type": "scattercarpet"
           }
          ],
          "scattergeo": [
           {
            "marker": {
             "colorbar": {
              "outlinewidth": 0,
              "ticks": ""
             }
            },
            "type": "scattergeo"
           }
          ],
          "scattergl": [
           {
            "marker": {
             "colorbar": {
              "outlinewidth": 0,
              "ticks": ""
             }
            },
            "type": "scattergl"
           }
          ],
          "scattermapbox": [
           {
            "marker": {
             "colorbar": {
              "outlinewidth": 0,
              "ticks": ""
             }
            },
            "type": "scattermapbox"
           }
          ],
          "scatterpolar": [
           {
            "marker": {
             "colorbar": {
              "outlinewidth": 0,
              "ticks": ""
             }
            },
            "type": "scatterpolar"
           }
          ],
          "scatterpolargl": [
           {
            "marker": {
             "colorbar": {
              "outlinewidth": 0,
              "ticks": ""
             }
            },
            "type": "scatterpolargl"
           }
          ],
          "scatterternary": [
           {
            "marker": {
             "colorbar": {
              "outlinewidth": 0,
              "ticks": ""
             }
            },
            "type": "scatterternary"
           }
          ],
          "surface": [
           {
            "colorbar": {
             "outlinewidth": 0,
             "ticks": ""
            },
            "colorscale": [
             [
              0,
              "#0d0887"
             ],
             [
              0.1111111111111111,
              "#46039f"
             ],
             [
              0.2222222222222222,
              "#7201a8"
             ],
             [
              0.3333333333333333,
              "#9c179e"
             ],
             [
              0.4444444444444444,
              "#bd3786"
             ],
             [
              0.5555555555555556,
              "#d8576b"
             ],
             [
              0.6666666666666666,
              "#ed7953"
             ],
             [
              0.7777777777777778,
              "#fb9f3a"
             ],
             [
              0.8888888888888888,
              "#fdca26"
             ],
             [
              1,
              "#f0f921"
             ]
            ],
            "type": "surface"
           }
          ],
          "table": [
           {
            "cells": {
             "fill": {
              "color": "#EBF0F8"
             },
             "line": {
              "color": "white"
             }
            },
            "header": {
             "fill": {
              "color": "#C8D4E3"
             },
             "line": {
              "color": "white"
             }
            },
            "type": "table"
           }
          ]
         },
         "layout": {
          "annotationdefaults": {
           "arrowcolor": "#2a3f5f",
           "arrowhead": 0,
           "arrowwidth": 1
          },
          "autotypenumbers": "strict",
          "coloraxis": {
           "colorbar": {
            "outlinewidth": 0,
            "ticks": ""
           }
          },
          "colorscale": {
           "diverging": [
            [
             0,
             "#8e0152"
            ],
            [
             0.1,
             "#c51b7d"
            ],
            [
             0.2,
             "#de77ae"
            ],
            [
             0.3,
             "#f1b6da"
            ],
            [
             0.4,
             "#fde0ef"
            ],
            [
             0.5,
             "#f7f7f7"
            ],
            [
             0.6,
             "#e6f5d0"
            ],
            [
             0.7,
             "#b8e186"
            ],
            [
             0.8,
             "#7fbc41"
            ],
            [
             0.9,
             "#4d9221"
            ],
            [
             1,
             "#276419"
            ]
           ],
           "sequential": [
            [
             0,
             "#0d0887"
            ],
            [
             0.1111111111111111,
             "#46039f"
            ],
            [
             0.2222222222222222,
             "#7201a8"
            ],
            [
             0.3333333333333333,
             "#9c179e"
            ],
            [
             0.4444444444444444,
             "#bd3786"
            ],
            [
             0.5555555555555556,
             "#d8576b"
            ],
            [
             0.6666666666666666,
             "#ed7953"
            ],
            [
             0.7777777777777778,
             "#fb9f3a"
            ],
            [
             0.8888888888888888,
             "#fdca26"
            ],
            [
             1,
             "#f0f921"
            ]
           ],
           "sequentialminus": [
            [
             0,
             "#0d0887"
            ],
            [
             0.1111111111111111,
             "#46039f"
            ],
            [
             0.2222222222222222,
             "#7201a8"
            ],
            [
             0.3333333333333333,
             "#9c179e"
            ],
            [
             0.4444444444444444,
             "#bd3786"
            ],
            [
             0.5555555555555556,
             "#d8576b"
            ],
            [
             0.6666666666666666,
             "#ed7953"
            ],
            [
             0.7777777777777778,
             "#fb9f3a"
            ],
            [
             0.8888888888888888,
             "#fdca26"
            ],
            [
             1,
             "#f0f921"
            ]
           ]
          },
          "colorway": [
           "#636efa",
           "#EF553B",
           "#00cc96",
           "#ab63fa",
           "#FFA15A",
           "#19d3f3",
           "#FF6692",
           "#B6E880",
           "#FF97FF",
           "#FECB52"
          ],
          "font": {
           "color": "#2a3f5f"
          },
          "geo": {
           "bgcolor": "white",
           "lakecolor": "white",
           "landcolor": "#E5ECF6",
           "showlakes": true,
           "showland": true,
           "subunitcolor": "white"
          },
          "hoverlabel": {
           "align": "left"
          },
          "hovermode": "closest",
          "mapbox": {
           "style": "light"
          },
          "paper_bgcolor": "white",
          "plot_bgcolor": "#E5ECF6",
          "polar": {
           "angularaxis": {
            "gridcolor": "white",
            "linecolor": "white",
            "ticks": ""
           },
           "bgcolor": "#E5ECF6",
           "radialaxis": {
            "gridcolor": "white",
            "linecolor": "white",
            "ticks": ""
           }
          },
          "scene": {
           "xaxis": {
            "backgroundcolor": "#E5ECF6",
            "gridcolor": "white",
            "gridwidth": 2,
            "linecolor": "white",
            "showbackground": true,
            "ticks": "",
            "zerolinecolor": "white"
           },
           "yaxis": {
            "backgroundcolor": "#E5ECF6",
            "gridcolor": "white",
            "gridwidth": 2,
            "linecolor": "white",
            "showbackground": true,
            "ticks": "",
            "zerolinecolor": "white"
           },
           "zaxis": {
            "backgroundcolor": "#E5ECF6",
            "gridcolor": "white",
            "gridwidth": 2,
            "linecolor": "white",
            "showbackground": true,
            "ticks": "",
            "zerolinecolor": "white"
           }
          },
          "shapedefaults": {
           "line": {
            "color": "#2a3f5f"
           }
          },
          "ternary": {
           "aaxis": {
            "gridcolor": "white",
            "linecolor": "white",
            "ticks": ""
           },
           "baxis": {
            "gridcolor": "white",
            "linecolor": "white",
            "ticks": ""
           },
           "bgcolor": "#E5ECF6",
           "caxis": {
            "gridcolor": "white",
            "linecolor": "white",
            "ticks": ""
           }
          },
          "title": {
           "x": 0.05
          },
          "xaxis": {
           "automargin": true,
           "gridcolor": "white",
           "linecolor": "white",
           "ticks": "",
           "title": {
            "standoff": 15
           },
           "zerolinecolor": "white",
           "zerolinewidth": 2
          },
          "yaxis": {
           "automargin": true,
           "gridcolor": "white",
           "linecolor": "white",
           "ticks": "",
           "title": {
            "standoff": 15
           },
           "zerolinecolor": "white",
           "zerolinewidth": 2
          }
         }
        },
        "title": {
         "text": "Generated Output Similarity vs. LeetCode Problem Id #"
        },
        "xaxis": {
         "title": {
          "text": "Problem Id #"
         }
        },
        "yaxis": {
         "title": {
          "text": "Value"
         }
        }
       }
      },
      "text/html": [
       "<div>                            <div id=\"00f24e40-b6ea-436c-96e7-79916b2e0774\" class=\"plotly-graph-div\" style=\"height:525px; width:100%;\"></div>            <script type=\"text/javascript\">                require([\"plotly\"], function(Plotly) {                    window.PLOTLYENV=window.PLOTLYENV || {};                                    if (document.getElementById(\"00f24e40-b6ea-436c-96e7-79916b2e0774\")) {                    Plotly.newPlot(                        \"00f24e40-b6ea-436c-96e7-79916b2e0774\",                        [{\"mode\":\"lines\",\"name\":\"gpt-3p5-turbo-0613\",\"x\":[42.0,82.0,122.0,168.0,226.0,303.0,365.0,410.0,459.0,563.0,645.0,692.0,741.0,791.0,832.0,912.0,952.0,1032.0,1105.0,1186.0,1260.0,1313.0,1360.0,1406.0,1458.0,1510.0,1563.0,1671.0,1723.0,1776.0,1830.0,1883.0,1936.0,1991.0,2042.0,2094.0,2144.0,2194.0,2245.0,2295.0,2349.0,2401.0,2448.0,2498.0,2546.0,2588.0,2658.0,2735.0,2800.0],\"y\":[0.9754002444436825,0.9664473546626162,0.9755429005253795,0.9729345367832809,0.9432160845019796,0.9292747664273382,0.9537750190848504,0.9142242248711469,0.9813647333221153,0.9419116038993504,0.9350777909093686,0.958825289858467,0.9743157803584473,0.9424064370239249,0.9426225200003597,0.9399609676213755,0.956026457199292,0.9751613128295286,0.9246315157316294,0.9534584405227642,0.9490996768492497,0.932570658461948,0.9728718521550168,0.9414666254696659,0.9380954783937823,0.9627238945914788,0.8956741165966473,0.9354544062593276,0.8568305430482634,0.9715472532582108,0.9658614404626772,0.9630653871656436,0.9753325866105367,0.8644743913880503,0.7829725994476852,0.7867320342171596,0.805890300512798,0.8230072854737126,0.8118778973762638,0.8231807728345658,0.8363400580985909,0.795531752821001,0.8188191079889968,0.8231098338230222,0.8414134920025271,0.8704358521574822,0.8322082255348888,0.7841919368318706,0.8660537208616368],\"type\":\"scatter\"},{\"mode\":\"lines\",\"name\":\"gpt4-0613\",\"x\":[42.0,82.0,122.0,168.0,226.0,303.0,365.0,410.0,459.0,563.0,645.0,692.0,741.0,791.0,832.0,912.0,952.0,1032.0,1105.0,1186.0,1260.0,1313.0,1360.0,1406.0,1458.0,1510.0,1563.0,1671.0,1723.0,1776.0,1830.0,1883.0,1936.0,1991.0,2042.0,2094.0,2144.0,2194.0,2245.0,2295.0,2349.0,2401.0,2448.0,2498.0,2546.0,2588.0,2658.0,2735.0,2800.0],\"y\":[0.9684569737632447,0.9669275020741651,0.9799933681266595,0.9719926398123144,0.9673047410427913,0.9102353344650779,0.9654536548590718,0.9385174530592673,0.9199415905865331,0.9684837615198474,0.9458336871802702,0.9414439413476768,0.9328225384519756,0.9470429171185373,0.9572350254372521,0.9617117550860694,0.9526986805055376,0.9747817452403352,0.9510444295422398,0.9633402577004647,0.9404512119495644,0.9596124923720581,0.9519281039601863,0.9597038449943037,0.9790136860209645,0.9690825365464311,0.9816418368229289,0.9801266157742797,0.8970961159270768,0.8871199230414062,0.9476278354086087,0.9726125894225693,0.9830083847248243,0.982566098321881,0.8934817343323317,0.7828983531172968,0.7745052209240406,0.8588440824173322,0.8256044587733802,0.7657358676319684,0.8442393780040363,0.7919421667985179,0.7822528400547761,0.8162629191280845,0.8460094892789548,0.8921471516498521,0.8622620284473214,0.7891999131842362,0.8380082080062858],\"type\":\"scatter\"}],                        {\"template\":{\"data\":{\"histogram2dcontour\":[{\"type\":\"histogram2dcontour\",\"colorbar\":{\"outlinewidth\":0,\"ticks\":\"\"},\"colorscale\":[[0.0,\"#0d0887\"],[0.1111111111111111,\"#46039f\"],[0.2222222222222222,\"#7201a8\"],[0.3333333333333333,\"#9c179e\"],[0.4444444444444444,\"#bd3786\"],[0.5555555555555556,\"#d8576b\"],[0.6666666666666666,\"#ed7953\"],[0.7777777777777778,\"#fb9f3a\"],[0.8888888888888888,\"#fdca26\"],[1.0,\"#f0f921\"]]}],\"choropleth\":[{\"type\":\"choropleth\",\"colorbar\":{\"outlinewidth\":0,\"ticks\":\"\"}}],\"histogram2d\":[{\"type\":\"histogram2d\",\"colorbar\":{\"outlinewidth\":0,\"ticks\":\"\"},\"colorscale\":[[0.0,\"#0d0887\"],[0.1111111111111111,\"#46039f\"],[0.2222222222222222,\"#7201a8\"],[0.3333333333333333,\"#9c179e\"],[0.4444444444444444,\"#bd3786\"],[0.5555555555555556,\"#d8576b\"],[0.6666666666666666,\"#ed7953\"],[0.7777777777777778,\"#fb9f3a\"],[0.8888888888888888,\"#fdca26\"],[1.0,\"#f0f921\"]]}],\"heatmap\":[{\"type\":\"heatmap\",\"colorbar\":{\"outlinewidth\":0,\"ticks\":\"\"},\"colorscale\":[[0.0,\"#0d0887\"],[0.1111111111111111,\"#46039f\"],[0.2222222222222222,\"#7201a8\"],[0.3333333333333333,\"#9c179e\"],[0.4444444444444444,\"#bd3786\"],[0.5555555555555556,\"#d8576b\"],[0.6666666666666666,\"#ed7953\"],[0.7777777777777778,\"#fb9f3a\"],[0.8888888888888888,\"#fdca26\"],[1.0,\"#f0f921\"]]}],\"heatmapgl\":[{\"type\":\"heatmapgl\",\"colorbar\":{\"outlinewidth\":0,\"ticks\":\"\"},\"colorscale\":[[0.0,\"#0d0887\"],[0.1111111111111111,\"#46039f\"],[0.2222222222222222,\"#7201a8\"],[0.3333333333333333,\"#9c179e\"],[0.4444444444444444,\"#bd3786\"],[0.5555555555555556,\"#d8576b\"],[0.6666666666666666,\"#ed7953\"],[0.7777777777777778,\"#fb9f3a\"],[0.8888888888888888,\"#fdca26\"],[1.0,\"#f0f921\"]]}],\"contourcarpet\":[{\"type\":\"contourcarpet\",\"colorbar\":{\"outlinewidth\":0,\"ticks\":\"\"}}],\"contour\":[{\"type\":\"contour\",\"colorbar\":{\"outlinewidth\":0,\"ticks\":\"\"},\"colorscale\":[[0.0,\"#0d0887\"],[0.1111111111111111,\"#46039f\"],[0.2222222222222222,\"#7201a8\"],[0.3333333333333333,\"#9c179e\"],[0.4444444444444444,\"#bd3786\"],[0.5555555555555556,\"#d8576b\"],[0.6666666666666666,\"#ed7953\"],[0.7777777777777778,\"#fb9f3a\"],[0.8888888888888888,\"#fdca26\"],[1.0,\"#f0f921\"]]}],\"surface\":[{\"type\":\"surface\",\"colorbar\":{\"outlinewidth\":0,\"ticks\":\"\"},\"colorscale\":[[0.0,\"#0d0887\"],[0.1111111111111111,\"#46039f\"],[0.2222222222222222,\"#7201a8\"],[0.3333333333333333,\"#9c179e\"],[0.4444444444444444,\"#bd3786\"],[0.5555555555555556,\"#d8576b\"],[0.6666666666666666,\"#ed7953\"],[0.7777777777777778,\"#fb9f3a\"],[0.8888888888888888,\"#fdca26\"],[1.0,\"#f0f921\"]]}],\"mesh3d\":[{\"type\":\"mesh3d\",\"colorbar\":{\"outlinewidth\":0,\"ticks\":\"\"}}],\"scatter\":[{\"fillpattern\":{\"fillmode\":\"overlay\",\"size\":10,\"solidity\":0.2},\"type\":\"scatter\"}],\"parcoords\":[{\"type\":\"parcoords\",\"line\":{\"colorbar\":{\"outlinewidth\":0,\"ticks\":\"\"}}}],\"scatterpolargl\":[{\"type\":\"scatterpolargl\",\"marker\":{\"colorbar\":{\"outlinewidth\":0,\"ticks\":\"\"}}}],\"bar\":[{\"error_x\":{\"color\":\"#2a3f5f\"},\"error_y\":{\"color\":\"#2a3f5f\"},\"marker\":{\"line\":{\"color\":\"#E5ECF6\",\"width\":0.5},\"pattern\":{\"fillmode\":\"overlay\",\"size\":10,\"solidity\":0.2}},\"type\":\"bar\"}],\"scattergeo\":[{\"type\":\"scattergeo\",\"marker\":{\"colorbar\":{\"outlinewidth\":0,\"ticks\":\"\"}}}],\"scatterpolar\":[{\"type\":\"scatterpolar\",\"marker\":{\"colorbar\":{\"outlinewidth\":0,\"ticks\":\"\"}}}],\"histogram\":[{\"marker\":{\"pattern\":{\"fillmode\":\"overlay\",\"size\":10,\"solidity\":0.2}},\"type\":\"histogram\"}],\"scattergl\":[{\"type\":\"scattergl\",\"marker\":{\"colorbar\":{\"outlinewidth\":0,\"ticks\":\"\"}}}],\"scatter3d\":[{\"type\":\"scatter3d\",\"line\":{\"colorbar\":{\"outlinewidth\":0,\"ticks\":\"\"}},\"marker\":{\"colorbar\":{\"outlinewidth\":0,\"ticks\":\"\"}}}],\"scattermapbox\":[{\"type\":\"scattermapbox\",\"marker\":{\"colorbar\":{\"outlinewidth\":0,\"ticks\":\"\"}}}],\"scatterternary\":[{\"type\":\"scatterternary\",\"marker\":{\"colorbar\":{\"outlinewidth\":0,\"ticks\":\"\"}}}],\"scattercarpet\":[{\"type\":\"scattercarpet\",\"marker\":{\"colorbar\":{\"outlinewidth\":0,\"ticks\":\"\"}}}],\"carpet\":[{\"aaxis\":{\"endlinecolor\":\"#2a3f5f\",\"gridcolor\":\"white\",\"linecolor\":\"white\",\"minorgridcolor\":\"white\",\"startlinecolor\":\"#2a3f5f\"},\"baxis\":{\"endlinecolor\":\"#2a3f5f\",\"gridcolor\":\"white\",\"linecolor\":\"white\",\"minorgridcolor\":\"white\",\"startlinecolor\":\"#2a3f5f\"},\"type\":\"carpet\"}],\"table\":[{\"cells\":{\"fill\":{\"color\":\"#EBF0F8\"},\"line\":{\"color\":\"white\"}},\"header\":{\"fill\":{\"color\":\"#C8D4E3\"},\"line\":{\"color\":\"white\"}},\"type\":\"table\"}],\"barpolar\":[{\"marker\":{\"line\":{\"color\":\"#E5ECF6\",\"width\":0.5},\"pattern\":{\"fillmode\":\"overlay\",\"size\":10,\"solidity\":0.2}},\"type\":\"barpolar\"}],\"pie\":[{\"automargin\":true,\"type\":\"pie\"}]},\"layout\":{\"autotypenumbers\":\"strict\",\"colorway\":[\"#636efa\",\"#EF553B\",\"#00cc96\",\"#ab63fa\",\"#FFA15A\",\"#19d3f3\",\"#FF6692\",\"#B6E880\",\"#FF97FF\",\"#FECB52\"],\"font\":{\"color\":\"#2a3f5f\"},\"hovermode\":\"closest\",\"hoverlabel\":{\"align\":\"left\"},\"paper_bgcolor\":\"white\",\"plot_bgcolor\":\"#E5ECF6\",\"polar\":{\"bgcolor\":\"#E5ECF6\",\"angularaxis\":{\"gridcolor\":\"white\",\"linecolor\":\"white\",\"ticks\":\"\"},\"radialaxis\":{\"gridcolor\":\"white\",\"linecolor\":\"white\",\"ticks\":\"\"}},\"ternary\":{\"bgcolor\":\"#E5ECF6\",\"aaxis\":{\"gridcolor\":\"white\",\"linecolor\":\"white\",\"ticks\":\"\"},\"baxis\":{\"gridcolor\":\"white\",\"linecolor\":\"white\",\"ticks\":\"\"},\"caxis\":{\"gridcolor\":\"white\",\"linecolor\":\"white\",\"ticks\":\"\"}},\"coloraxis\":{\"colorbar\":{\"outlinewidth\":0,\"ticks\":\"\"}},\"colorscale\":{\"sequential\":[[0.0,\"#0d0887\"],[0.1111111111111111,\"#46039f\"],[0.2222222222222222,\"#7201a8\"],[0.3333333333333333,\"#9c179e\"],[0.4444444444444444,\"#bd3786\"],[0.5555555555555556,\"#d8576b\"],[0.6666666666666666,\"#ed7953\"],[0.7777777777777778,\"#fb9f3a\"],[0.8888888888888888,\"#fdca26\"],[1.0,\"#f0f921\"]],\"sequentialminus\":[[0.0,\"#0d0887\"],[0.1111111111111111,\"#46039f\"],[0.2222222222222222,\"#7201a8\"],[0.3333333333333333,\"#9c179e\"],[0.4444444444444444,\"#bd3786\"],[0.5555555555555556,\"#d8576b\"],[0.6666666666666666,\"#ed7953\"],[0.7777777777777778,\"#fb9f3a\"],[0.8888888888888888,\"#fdca26\"],[1.0,\"#f0f921\"]],\"diverging\":[[0,\"#8e0152\"],[0.1,\"#c51b7d\"],[0.2,\"#de77ae\"],[0.3,\"#f1b6da\"],[0.4,\"#fde0ef\"],[0.5,\"#f7f7f7\"],[0.6,\"#e6f5d0\"],[0.7,\"#b8e186\"],[0.8,\"#7fbc41\"],[0.9,\"#4d9221\"],[1,\"#276419\"]]},\"xaxis\":{\"gridcolor\":\"white\",\"linecolor\":\"white\",\"ticks\":\"\",\"title\":{\"standoff\":15},\"zerolinecolor\":\"white\",\"automargin\":true,\"zerolinewidth\":2},\"yaxis\":{\"gridcolor\":\"white\",\"linecolor\":\"white\",\"ticks\":\"\",\"title\":{\"standoff\":15},\"zerolinecolor\":\"white\",\"automargin\":true,\"zerolinewidth\":2},\"scene\":{\"xaxis\":{\"backgroundcolor\":\"#E5ECF6\",\"gridcolor\":\"white\",\"linecolor\":\"white\",\"showbackground\":true,\"ticks\":\"\",\"zerolinecolor\":\"white\",\"gridwidth\":2},\"yaxis\":{\"backgroundcolor\":\"#E5ECF6\",\"gridcolor\":\"white\",\"linecolor\":\"white\",\"showbackground\":true,\"ticks\":\"\",\"zerolinecolor\":\"white\",\"gridwidth\":2},\"zaxis\":{\"backgroundcolor\":\"#E5ECF6\",\"gridcolor\":\"white\",\"linecolor\":\"white\",\"showbackground\":true,\"ticks\":\"\",\"zerolinecolor\":\"white\",\"gridwidth\":2}},\"shapedefaults\":{\"line\":{\"color\":\"#2a3f5f\"}},\"annotationdefaults\":{\"arrowcolor\":\"#2a3f5f\",\"arrowhead\":0,\"arrowwidth\":1},\"geo\":{\"bgcolor\":\"white\",\"landcolor\":\"#E5ECF6\",\"subunitcolor\":\"white\",\"showland\":true,\"showlakes\":true,\"lakecolor\":\"white\"},\"title\":{\"x\":0.05},\"mapbox\":{\"style\":\"light\"}}},\"title\":{\"text\":\"Generated Output Similarity vs. LeetCode Problem Id #\"},\"xaxis\":{\"title\":{\"text\":\"Problem Id #\"}},\"yaxis\":{\"title\":{\"text\":\"Value\"}}},                        {\"responsive\": true}                    ).then(function(){\n",
       "                            \n",
       "var gd = document.getElementById('00f24e40-b6ea-436c-96e7-79916b2e0774');\n",
       "var x = new MutationObserver(function (mutations, observer) {{\n",
       "        var display = window.getComputedStyle(gd).display;\n",
       "        if (!display || display === 'none') {{\n",
       "            console.log([gd, 'removed!']);\n",
       "            Plotly.purge(gd);\n",
       "            observer.disconnect();\n",
       "        }}\n",
       "}});\n",
       "\n",
       "// Listen for the removal of the full notebook cells\n",
       "var notebookContainer = gd.closest('#notebook-container');\n",
       "if (notebookContainer) {{\n",
       "    x.observe(notebookContainer, {childList: true});\n",
       "}}\n",
       "\n",
       "// Listen for the clearing of the current output cell\n",
       "var outputEl = gd.closest('.output');\n",
       "if (outputEl) {{\n",
       "    x.observe(outputEl, {childList: true});\n",
       "}}\n",
       "\n",
       "                        })                };                });            </script>        </div>"
      ]
     },
     "metadata": {},
     "output_type": "display_data"
    }
   ],
   "source": [
    "import plotly.graph_objects as go\n",
    "\n",
    "# Create a figure\n",
    "fig = go.Figure()\n",
    "\n",
    "# Plot traces\n",
    "# fig.add_trace(go.Scatter(x=merged_df['frontend_question_id'], y=merged_df['gpt3p5_0301'], mode='lines', name='gpt3p5_0301'))\n",
    "# fig.add_trace(go.Scatter(x=merged_df['frontend_question_id'], y=merged_df['gpt3p5_0613'], mode='lines', name='gpt3p5_0613'))\n",
    "fig.add_trace(go.Scatter(x=merged_df['frontend_question_id_gpt3p5'], y=merged_df['gpt3p5-turbo-0613'], mode='lines', name='gpt-3p5-turbo-0613'))\n",
    "fig.add_trace(go.Scatter(x=merged_df['frontend_question_id_gpt4'], y=merged_df['gpt4-0613'], mode='lines', name='gpt4-0613'))\n",
    "\n",
    "# Set the layout and show the plot\n",
    "fig.update_layout(title='Generated Output Similarity vs. LeetCode Problem Id #', xaxis_title='Problem Id #', yaxis_title='Value')\n",
    "fig.show()\n"
   ]
  }
 ],
 "metadata": {
  "kernelspec": {
   "display_name": "Python 3 (ipykernel)",
   "language": "python",
   "name": "python3"
  },
  "language_info": {
   "codemirror_mode": {
    "name": "ipython",
    "version": 3
   },
   "file_extension": ".py",
   "mimetype": "text/x-python",
   "name": "python",
   "nbconvert_exporter": "python",
   "pygments_lexer": "ipython3",
   "version": "3.9.13"
  }
 },
 "nbformat": 4,
 "nbformat_minor": 5
}
